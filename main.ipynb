{
 "cells": [
  {
   "cell_type": "markdown",
   "id": "2f5b2cc2",
   "metadata": {},
   "source": [
    "# Automated Hamiltonian Extract\n"
   ]
  },
  {
   "cell_type": "markdown",
   "id": "40b29bfa",
   "metadata": {},
   "source": [
    "## Imports and file structure creation"
   ]
  },
  {
   "cell_type": "code",
   "execution_count": null,
   "id": "a195c6d0",
   "metadata": {},
   "outputs": [],
   "source": [
    "import os\n",
    "from qiskit_metal import MetalGUI\n",
    "from scipy.constants import Planck, e, hbar, h\n",
    "import numpy as np\n",
    "\n",
    "from validate_config_file import *\n",
    "from helpers import *\n",
    "from make_designs import *\n",
    "from prepare_inductex_gds_files import *\n",
    "from prepare_palace_sims import *\n",
    "from prepare_inductex_sims import *\n",
    "from run_simulations import *\n",
    "from collect_simulation_results import *\n",
    "from quantum_analysis_lom import *\n",
    "from quantum_analysis_epr import *\n",
    "\n",
    "# MPI related environment variables \n",
    "os.environ[\"KMP_DUPLICATE_LIB_OK\"]=\"TRUE\"\n",
    "os.environ[\"PMIX_MCA_gds\"]=\"hash\"\n",
    "\n",
    "gds_types                       = ['raw', 'processed_multi_layer', 'processed_single_layer', 'simulations']\n",
    "design_names                    = ['full', 'full_no_jj', 'junction', 'transmon', 'transmon_no_jj', 'resonator', 'feedline']\n",
    "inductex_simulation_types       = ['capacitance', 'inductance', 'sparams', 'electric_field', 'magnetic_field']\n",
    "palace_simulation_types         = ['capacitance', 'eigenmode']\n",
    "os.makedirs('data', exist_ok=True)\n",
    "for gds_type in gds_types:\n",
    "    os.makedirs(f'gds_files/{gds_type}', exist_ok=True)\n",
    "\n",
    "for design in design_names:\n",
    "    for sim_type in inductex_simulation_types:\n",
    "        os.makedirs(f'simulations/inductex/{sim_type}/{design}', exist_ok=True)\n",
    "\n",
    "\n",
    "for design in design_names:\n",
    "    for sim_type in palace_simulation_types:\n",
    "        os.makedirs(f'simulations/palace/{sim_type}/{design}', exist_ok=True)\n",
    "\n",
    "\n",
    "# TODO\n",
    "# Add suport for none entries in config file\n",
    "# Double check chip z height is correct\n",
    "# Find a way to remove the xmon dummy\n",
    "#   Prehaps this can bedone with replace junction\n",
    "# Cell hirachy might be a bit busted for GDS files\n",
    "# Multiple declarations of component geos, check helper functions for uncertainty\n",
    "# claw_cpw_width and calw_cpw_length dont seem to do anything\n",
    "# The json file for all the geometry data is slightly contradictory as geometry for some things have been declared 2 or 3 times\n",
    "# this is most likely due to different simulations being done on indvidiual components or a partial design of the system\n",
    "# Removed end_straight=resonator_geo['end_straight'] from resonator as it was none and causing issues\n",
    "# Bad implementation of pin_width = pin_width*1e-3 in _get_pin_left_um and _get_pin_right_um\n",
    "# Force adjusted CPW for transmon to fit full design, didnt work use in report for source of error\n",
    "# Feed cap simulation uses feedline width to determine where to place ground label, but in reality thickness of feedline is done using resonator width couldn't\n",
    "# cause problems unless feedline width or resonator width is REALLY extreme\n",
    "# Sparam for transmon is not quite right, will fix later\n",
    "# Rename data to ref-design-data?\n",
    "# Chip thickness for make_designs might be too thin\n",
    "# Meshing problem with feedline cap sim\n",
    "# Sparams are pasted in weirdly\n",
    "# Slight bug with palace saying succesful or unsucessful when keep_open is true\n",
    "# Way too much effort to get transmon eigen sim working, don't need it since we can just use the full, will just cause problems\n",
    "# Using cavity-qubit notation in LOM analysis\n",
    "# Epsilon below"
   ]
  },
  {
   "cell_type": "markdown",
   "id": "5ebc4551",
   "metadata": {},
   "source": [
    "## Load and validate setup file"
   ]
  },
  {
   "cell_type": "code",
   "execution_count": null,
   "id": "f5fea5d4",
   "metadata": {},
   "outputs": [],
   "source": [
    "CONFIG_PATH                     = \"quantum_config.json\"\n",
    "quantum_config                  = ensure_config(CONFIG_PATH)\n",
    "run_inductex                    = False\n",
    "run_palace_setup                = False\n",
    "run_palace                      = False\n",
    "palace_show_conductor_indices   = False"
   ]
  },
  {
   "cell_type": "markdown",
   "id": "567f9eb0",
   "metadata": {},
   "source": [
    "## Find design from database and get master design file\n"
   ]
  },
  {
   "cell_type": "code",
   "execution_count": null,
   "id": "9e838800",
   "metadata": {},
   "outputs": [],
   "source": [
    "design_specs                                 = quantum_config[\"design_specs\"]\n",
    "\n",
    "if os.path.exists(\"data/design_reference_data_all.json\"):\n",
    "    best_design, ref_design_specs, ref_capacitance_specs, qubit_geo, resonator_geo, feedline_geo, junction_inductance = fetch_design_fast()\n",
    "else:\n",
    "    best_design, ref_design_specs, ref_capacitance_specs, qubit_geo, resonator_geo, feedline_geo, junction_inductance = fetch_design(design_specs=design_specs, num_top=1)"
   ]
  },
  {
   "cell_type": "markdown",
   "id": "4476ae9d",
   "metadata": {},
   "source": [
    "## Save master design file and useful data"
   ]
  },
  {
   "cell_type": "code",
   "execution_count": null,
   "id": "f411b247",
   "metadata": {},
   "outputs": [],
   "source": [
    "save_results_to_json(best_design, name=\"data/design_reference_data_all\", save=True)\n",
    "save_results_to_json(ref_design_specs, name=\"data/design_reference_data_design_specs\", save=True)\n",
    "save_results_to_json(ref_capacitance_specs, name=\"data/design_reference_data_capacitance\", save=True)\n",
    "save_results_to_json(qubit_geo, name=\"data/design_reference_qubit_geometry\", save=True)\n",
    "save_results_to_json(resonator_geo, name=\"data/design_reference_resonator_geometry\", save=True)\n",
    "save_results_to_json(feedline_geo, name=\"data/design_reference_feedline_geometry\", save=True)\n",
    "save_results_to_json(junction_inductance, name=\"data/design_reference_junction_inductance\", save=True)"
   ]
  },
  {
   "cell_type": "markdown",
   "id": "b550f123",
   "metadata": {},
   "source": [
    "## Generate Qiskit Metal designs from master design geomtery and config file"
   ]
  },
  {
   "cell_type": "code",
   "execution_count": null,
   "id": "d987816a",
   "metadata": {},
   "outputs": [],
   "source": [
    "scaling_factor              = quantum_config[\"miscellaneous\"][\"sims\"][\"base_chip_scaling_factor\"]\n",
    "full_design                 = make_full_design(best_design, qubit_geo, resonator_geo, feedline_geo)\n",
    "full_no_jj_design           = make_full_no_jj_design(best_design, qubit_geo, resonator_geo, feedline_geo)\n",
    "junction_design             = make_junction_design(best_design, qubit_geo, resonator_geo, feedline_geo, scaling_factor=scaling_factor)\n",
    "transmon_design             = make_transmon_design(best_design, qubit_geo, resonator_geo, feedline_geo, scaling_factor=scaling_factor)\n",
    "transmon_no_jj_design       = make_transmon_no_jj_design(best_design, qubit_geo, resonator_geo, feedline_geo, scaling_factor=scaling_factor)\n",
    "resonator_design            = make_resonator_design(best_design, qubit_geo, resonator_geo, feedline_geo, scaling_factor=scaling_factor)\n",
    "feedline_design             = make_feedline_design(best_design, qubit_geo, resonator_geo, feedline_geo, scaling_factor=scaling_factor)"
   ]
  },
  {
   "cell_type": "markdown",
   "id": "46e916ab",
   "metadata": {},
   "source": [
    "## Save raw designs to GDS"
   ]
  },
  {
   "cell_type": "code",
   "execution_count": null,
   "id": "a45add90",
   "metadata": {},
   "outputs": [],
   "source": [
    "to_gds(full_design, filename=\"gds_files/raw/full.gds\")  \n",
    "to_gds(full_no_jj_design, filename=\"gds_files/raw/full_no_jj.gds\")  \n",
    "to_gds(junction_design, filename=\"gds_files/raw/junction.gds\")  \n",
    "to_gds(transmon_design, filename=\"gds_files/raw/transmon.gds\")  \n",
    "to_gds(transmon_no_jj_design, filename=\"gds_files/raw/transmon_no_jj.gds\")  \n",
    "to_gds(resonator_design, filename=\"gds_files/raw/resonator.gds\")  \n",
    "to_gds(feedline_design, filename=\"gds_files/raw/feedline.gds\")  "
   ]
  },
  {
   "cell_type": "markdown",
   "id": "fb8e4e13",
   "metadata": {},
   "source": [
    "## Process InductEx GDS files"
   ]
  },
  {
   "cell_type": "code",
   "execution_count": null,
   "id": "2d543804",
   "metadata": {},
   "outputs": [],
   "source": [
    "process_full_gds()\n",
    "process_full_no_jj_gds()\n",
    "process_junction_gds()\n",
    "process_transmon_gds()\n",
    "process_transmon_no_jj_gds()\n",
    "process_resonator_gds()\n",
    "process_feedline_gds()"
   ]
  },
  {
   "cell_type": "markdown",
   "id": "43a72686",
   "metadata": {},
   "source": [
    "## Setup InductEx GDS simulation files"
   ]
  },
  {
   "cell_type": "code",
   "execution_count": null,
   "id": "e2e80385",
   "metadata": {},
   "outputs": [],
   "source": [
    "# Capacitance Sim GDS Files\n",
    "make_inductex_cap_sim_transmon_gds(transmon_design, qubit_geo)              \n",
    "make_inductex_cap_sim_transmon_no_jj_gds(transmon_no_jj_design, qubit_geo)  \n",
    "make_inductex_cap_sim_resonator_gds(resonator_design, resonator_geo)        \n",
    "make_inductex_cap_sim_feedline_gds(feedline_design, feedline_geo)           \n",
    "\n",
    "# Inductance Sim GDS Files\n",
    "make_inductex_ind_sim_resonator_gds(resonator_design, resonator_geo)        \n",
    "\n",
    "# S-Parameter Sim GDS Files\n",
    "make_inductex_sparam_sim_transmon_gds(transmon_design, qubit_geo)                   \n",
    "make_inductex_sparam_sim_transmon_no_jj_gds(transmon_no_jj_design, qubit_geo)       \n",
    "make_inductex_sparam_sim_resonator_gds(resonator_design, resonator_geo)             "
   ]
  },
  {
   "cell_type": "code",
   "execution_count": null,
   "id": "4dce8c0d",
   "metadata": {},
   "outputs": [],
   "source": [
    "# UNIMPLEMENTED INDUCTEX GDS SIM FILES\n",
    "\n",
    "#make_inductex_cap_sim_full_gds(full_design, qubit_geo)\n",
    "#make_inductex_cap_sim_full_no_jj_gds(full_no_jj_design, qubit_geo)\n",
    "#make_inductex_cap_sim_junction_gds(junction_design, qubit_geo)\n",
    "\n",
    "#make_inductex_ind_sim_full_gds(full_design, qubit_geo)\n",
    "#make_inductex_ind_sim_full_no_jj_gds(full_no_jj_design, qubit_geo)\n",
    "#make_inductex_ind_sim_junction_gds(junction_design, qubit_geo)\n",
    "#make_inductex_ind_sim_transmon_gds(transmon_design, qubit_geo)\n",
    "#make_inductex_ind_sim_transmon_no_jj_gds(transmon_no_jj_design, qubit_geo)\n",
    "#make_inductex_ind_sim_feedline_gds(feedline_design, feedline_geo)\n",
    "\n",
    "#make_inductex_sparam_sim_full_gds(full_design, qubit_geo)\n",
    "#make_inductex_sparam_sim_full_no_jj_gds(full_no_jj_design, qubit_geo)\n",
    "#make_inductex_sparam_sim_junction_gds(junction_design, qubit_geo)\n",
    "#make_inductex_sparam_sim_feedline_gds(feedline_design, feedline_geo)"
   ]
  },
  {
   "cell_type": "markdown",
   "id": "3c02539a",
   "metadata": {},
   "source": [
    "## Setup InductEx IXI, LDF and CIR simulation files"
   ]
  },
  {
   "cell_type": "code",
   "execution_count": null,
   "id": "33ec19ae",
   "metadata": {},
   "outputs": [],
   "source": [
    "quantum_config                    = ensure_config(CONFIG_PATH)   # Load config again for on the fly changes\n",
    "\n",
    "inductex_ixi_config               = quantum_config[\"simulations\"][\"inductex\"][\"ixi\"]\n",
    "inductex_ldf_config               = quantum_config[\"simulations\"][\"inductex\"][\"layer_definition_file\"]\n",
    "\n",
    "# Generate InductEx simulation GDS files for all designs\n",
    "designs = [full_design, full_no_jj_design, junction_design, transmon_design, transmon_no_jj_design, resonator_design, feedline_design]\n",
    "for design_name, design_obj in zip(design_names, designs):\n",
    "    make_inductex_cap_sim(design=design_obj, \n",
    "                          design_name=design_name, \n",
    "                          create_mask=False, \n",
    "                          mask_component=design_name, \n",
    "                          inductex_ixi_config=inductex_ixi_config, \n",
    "                          inductex_ldf_config=inductex_ldf_config\n",
    "                          )\n",
    "\n",
    "    make_inductex_ind_sim(design=design_obj, \n",
    "                          design_name=design_name, \n",
    "                          create_mask=False, \n",
    "                          mask_component=design_name, \n",
    "                          inductex_ixi_config=inductex_ixi_config, \n",
    "                          inductex_ldf_config=inductex_ldf_config\n",
    "                          )\n",
    "\n",
    "    make_inductex_sparam_sim(design=design_obj, \n",
    "                             design_name=design_name, \n",
    "                             create_mask=False, \n",
    "                             mask_component=design_name, \n",
    "                             inductex_ixi_config=inductex_ixi_config, \n",
    "                             inductex_ldf_config=inductex_ldf_config\n",
    "                             )\n"
   ]
  },
  {
   "cell_type": "markdown",
   "id": "519f6b2e",
   "metadata": {},
   "source": [
    "## Setup PALACE Mesh Simulation Files "
   ]
  },
  {
   "cell_type": "code",
   "execution_count": null,
   "id": "ff9bb0be",
   "metadata": {},
   "outputs": [],
   "source": [
    "if run_palace_setup:\n",
    "    quantum_config                               = ensure_config(CONFIG_PATH)   # Load config here for easy use\n",
    "\n",
    "    palace_cap_config               = quantum_config[\"simulations\"][\"palace\"][\"capacitance\"]\n",
    "    palace_eigenmode_config         = quantum_config[\"simulations\"][\"palace\"][\"eigenmode\"]\n",
    "    palace_eigenmode_config[\"lj\"]   = junction_inductance\n",
    "\n",
    "    cap_sim_list = []\n",
    "    cap_sim_list.append(make_palace_cap_sim(transmon_design, \"transmon\", palace_cap_config))        \n",
    "    cap_sim_list.append(make_palace_cap_sim(transmon_no_jj_design, \"transmon_no_jj\", palace_cap_config))\n",
    "    cap_sim_list.append(make_palace_cap_sim(resonator_design, \"resonator\", palace_cap_config))        \n",
    "    cap_sim_list.append(make_palace_cap_sim(feedline_design, \"feedline\", palace_cap_config))          \n",
    "\n",
    "    eigen_sim_list = []\n",
    "    eigen_sim_list.append(make_palace_eigenmode_sim(full_design, \"full\", palace_eigenmode_config))   \n",
    "    eigen_sim_list.append(make_palace_eigenmode_sim(full_no_jj_design, \"full_no_jj\", palace_eigenmode_config))    \n",
    "    eigen_sim_list.append(make_palace_eigenmode_sim(resonator_design, \"resonator\", palace_eigenmode_config))\n"
   ]
  },
  {
   "cell_type": "code",
   "execution_count": null,
   "id": "faa2f61f",
   "metadata": {},
   "outputs": [],
   "source": [
    "# UNIMPLEMENTED PALACE MESH SIM FILES\n",
    "\n",
    "#make_palace_cap_sim_full_gds(full_design, qubit_geo)\n",
    "#make_palace_cap_sim_full_no_jj_gds(full_no_jj_design, qubit_geo)\n",
    "#make_palace_cap_sim_junction_gds(junction_design, qubit_geo)\n",
    "\n",
    "#make_palace_eigenmode_sim(junction_design, \"junction\", palace_eigenmode_config)\n",
    "#make_palace_eigenmode_sim(feedline_design, \"feedline\", palace_eigenmode_config)\n",
    "#make_palace_eigenmode_sim(transmon_design, \"transmon\", palace_eigenmode_config)   \n",
    "#make_palace_eigenmode_sim(transmon_no_jj_design, \"transmon_no_jj\", palace_eigenmode_config)"
   ]
  },
  {
   "cell_type": "markdown",
   "id": "d8e08c70",
   "metadata": {},
   "source": [
    "## Optionally show sims and their conductor indices"
   ]
  },
  {
   "cell_type": "code",
   "execution_count": null,
   "id": "adcb3f17",
   "metadata": {},
   "outputs": [],
   "source": [
    "if palace_show_conductor_indices:\n",
    "    for cap_sim in cap_sim_list:\n",
    "        cap_sim.display_conductor_indices()\n",
    "    for eigen_sim in eigen_sim_list:\n",
    "        epr_data = eigen_sim.retrieve_EPR_data()  \n",
    "        mode_port_epr = eigen_sim.retrieve_mode_port_EPR()"
   ]
  },
  {
   "cell_type": "markdown",
   "id": "8652c892",
   "metadata": {},
   "source": [
    "## Run Inductex simulations"
   ]
  },
  {
   "cell_type": "code",
   "execution_count": null,
   "id": "ba2e5382",
   "metadata": {},
   "outputs": [],
   "source": [
    "# Select either capacitance, inductance, sparams, or eigenmode \n",
    "if run_inductex:\n",
    "    run_inductex_simulation(\"transmon\", \"capacitance\", keep_open=False)\n",
    "    run_inductex_simulation(\"transmon_no_jj\", \"capacitance\", keep_open=False)\n",
    "    run_inductex_simulation(\"resonator\", \"capacitance\", keep_open=False)\n",
    "    run_inductex_simulation(\"feedline\", \"capacitance\", keep_open=False)        \n",
    "\n",
    "    run_inductex_simulation(\"resonator\", \"inductance\", keep_open=False)\n",
    "\n",
    "    run_inductex_simulation(\"transmon\", \"sparams\", keep_open=False)\n",
    "    run_inductex_simulation(\"transmon_no_jj\", \"sparams\", keep_open=False)\n",
    "    run_inductex_simulation(\"resonator\", \"sparams\", keep_open=False)"
   ]
  },
  {
   "cell_type": "markdown",
   "id": "d1fb25fb",
   "metadata": {},
   "source": [
    "## Run PALACE Simulations"
   ]
  },
  {
   "cell_type": "code",
   "execution_count": null,
   "id": "a1d0678c",
   "metadata": {},
   "outputs": [],
   "source": [
    "if run_palace:\n",
    "    run_palace_simulation(\"transmon\", \"capacitance\", palace_eigenmode_config[\"number_of_cores\"], keep_open=False)\n",
    "    run_palace_simulation(\"transmon_no_jj\", \"capacitance\", palace_eigenmode_config[\"number_of_cores\"], keep_open=False)\n",
    "    run_palace_simulation(\"resonator\", \"capacitance\", palace_eigenmode_config[\"number_of_cores\"], keep_open=False)\n",
    "    run_palace_simulation(\"feedline\", \"capacitance\", palace_eigenmode_config[\"number_of_cores\"], keep_open=False)\n",
    "\n",
    "    run_palace_simulation(\"full\", \"eigenmode\", palace_eigenmode_config[\"number_of_cores\"], keep_open=False)\n",
    "    run_palace_simulation(\"full_no_jj\", \"eigenmode\", palace_eigenmode_config[\"number_of_cores\"], keep_open=False)\n",
    "    run_palace_simulation(\"resonator\", \"eigenmode\", palace_eigenmode_config[\"number_of_cores\"], keep_open=False)\n"
   ]
  },
  {
   "cell_type": "markdown",
   "id": "2fbbc663",
   "metadata": {},
   "source": [
    "## Extract and save results from simulations"
   ]
  },
  {
   "cell_type": "code",
   "execution_count": null,
   "id": "5eedbeb3",
   "metadata": {},
   "outputs": [],
   "source": [
    "inductex_results, inductex_time = collect_inductex_results(design_names, inductex_simulation_types)\n",
    "palace_results, palace_times    = collect_palace_results(design_names, palace_simulation_types)\n",
    "\n",
    "save_results_to_json(inductex_results, name=\"data/inductex_sim_results\", save=True, orient=\"records\", indent=2)\n",
    "save_results_to_json(palace_results, name=\"data/palace_sim_results\", save=True, orient=\"records\", indent=2)\n",
    "save_results_to_json(inductex_time, name=\"data/inductex_sim_times\", save=True, orient=\"records\", indent=2)\n",
    "save_results_to_json(palace_times, name=\"data/palace_sim_times\", save=True, orient=\"records\", indent=2)"
   ]
  },
  {
   "cell_type": "markdown",
   "id": "698b968e",
   "metadata": {},
   "source": [
    "## Quantum Analysis: Local Oscillator Method (LOM)"
   ]
  },
  {
   "cell_type": "markdown",
   "id": "71ef6381",
   "metadata": {},
   "source": [
    "## LOM Hamiltonian using HFSS reference results"
   ]
  },
  {
   "cell_type": "code",
   "execution_count": null,
   "id": "97261cba",
   "metadata": {},
   "outputs": [],
   "source": [
    "Ec                      = ref_capacitance_specs[\"EC\"] * 1e9 * h  # Convert GHz to Hz and then to J\n",
    "Cs                      = ref_capacitance_specs[\"cross_to_cross\"] * 1e-15  # Convert fF to F\n",
    "Cg                      = ref_capacitance_specs[\"cross_to_claw\"] * 1e-15  # Convert fF to F\n",
    "Cj                      = ((e**2) / (2*Ec)) - Cg - Cs  # Cj ~ 0 fF \n",
    "Lj                      = junction_inductance\n",
    "Lr                      = inductex_results[\"inductance\"][\"resonator\"][\"L1\"]  # Inductance not given so use inductex result\n",
    "Fc                      = ref_design_specs[\"cavity_frequency_ghz\"]* 1e9  # Convert GHz to Hz\n",
    "Cr                      = 1 / ((2*np.pi*Fc)**2 * Lr)\n",
    "Nq                      = quantum_config[\"quantum_analysis\"][\"lom\"][\"qubit_truncation\"]\n",
    "Nc                      = quantum_config[\"quantum_analysis\"][\"lom\"][\"cavity_truncation\"]\n",
    "Nmax                    = quantum_config[\"quantum_analysis\"][\"lom\"][\"charge_truncation\"]\n",
    "hamiltonian_lom_hfss    = compute_hamiltonian_lom(Lj=Lj, Lr=Lr, Cj=Cj, Cs=Cs, Cg=Cg, Cr=Cr, Nc=Nc, Nq=Nq, Nmax=Nmax)\n"
   ]
  },
  {
   "cell_type": "markdown",
   "id": "571b0fa3",
   "metadata": {},
   "source": [
    "## LOM Hamiltonian using InductEx Results "
   ]
  },
  {
   "cell_type": "code",
   "execution_count": null,
   "id": "adedba09",
   "metadata": {},
   "outputs": [],
   "source": [
    "Cs                      = inductex_results[\"capacitance\"][\"transmon\"][\"CCROSS-CCROSS\"]\n",
    "Cg                      = inductex_results[\"capacitance\"][\"transmon\"][\"CCROSS-CCLAW\"]\n",
    "Cj                      = 0                                                                 #Cj already accounted for in inductex transmon sim\n",
    "Lj                      = junction_inductance\n",
    "Lr                      = inductex_results[\"inductance\"][\"resonator\"][\"L1\"]                 # Inductance not given so use inductex result\n",
    "Cr                      = inductex_results[\"capacitance\"][\"resonator\"][\"CRESONATOR-CRESONATOR\"]\n",
    "Nq                      = quantum_config[\"quantum_analysis\"][\"lom\"][\"qubit_truncation\"]\n",
    "Nc                      = quantum_config[\"quantum_analysis\"][\"lom\"][\"cavity_truncation\"]\n",
    "Nmax                    = quantum_config[\"quantum_analysis\"][\"lom\"][\"charge_truncation\"]\n",
    "hamiltonian_lom_inducex = compute_hamiltonian_lom(Lj=Lj, Lr=Lr, Cj=Cj, Cs=Cs, Cg=Cg, Cr=Cr, Nc=Nc, Nq=Nq, Nmax=Nmax)"
   ]
  },
  {
   "cell_type": "markdown",
   "id": "d2bdab63",
   "metadata": {},
   "source": [
    "## LOM Hamiltonian using PALACE Results "
   ]
  },
  {
   "cell_type": "code",
   "execution_count": null,
   "id": "12803bda",
   "metadata": {},
   "outputs": [],
   "source": [
    "Cs                      = palace_results[\"capacitance\"][\"transmon\"][\"C2-C2\"]\n",
    "Cg                      = palace_results[\"capacitance\"][\"transmon\"][\"C2-C3\"]\n",
    "Cj                      = 0                                                             # Cj already accounted for in palace transmon sim\n",
    "Lj                      = junction_inductance\n",
    "Cr                      = palace_results[\"capacitance\"][\"resonator\"][\"C2-C2\"]\n",
    "Fc                      = palace_results[\"eigenmode\"][\"resonator\"][\"eigen_mode_frequencies\"][\"mode_1\"] * 1e9  # PALACE cannot do inductance sims so use eigenfrequencies to get Lr\n",
    "Lr                      = 1 / ((2*np.pi*Fc)**2 * Cr)\n",
    "Nq                      = quantum_config[\"quantum_analysis\"][\"lom\"][\"qubit_truncation\"]\n",
    "Nc                      = quantum_config[\"quantum_analysis\"][\"lom\"][\"cavity_truncation\"]\n",
    "Nmax                    = quantum_config[\"quantum_analysis\"][\"lom\"][\"charge_truncation\"]\n",
    "hamiltonian_lom_palace = compute_hamiltonian_lom(Lj=Lj, Lr=Lr, Cj=Cj, Cs=Cs, Cg=Cg, Cr=Cr, Nc=Nc, Nq=Nq, Nmax=Nmax)"
   ]
  },
  {
   "cell_type": "markdown",
   "id": "f7b4bd43",
   "metadata": {},
   "source": [
    "## Quantum Analysis: Energy Participation Ratio Method (EPR)"
   ]
  },
  {
   "cell_type": "markdown",
   "id": "ceec2fb5",
   "metadata": {},
   "source": [
    "## EPR Hamiltonian using PALACE Results "
   ]
  },
  {
   "cell_type": "code",
   "execution_count": 31,
   "id": "f94ef130",
   "metadata": {},
   "outputs": [],
   "source": [
    "Lj                      = junction_inductance\n",
    "Fq_Hz                   = palace_results[\"eigenmode\"][\"full\"][\"eigen_mode_frequencies\"][\"mode_1\"]*1e9\n",
    "Pq                      = -1*palace_results[\"eigenmode\"][\"full\"][\"eigen_mode_epr\"][\"mode_1\"]\n",
    "Fc_Hz                   = palace_results[\"eigenmode\"][\"resonator\"][\"eigen_mode_frequencies\"][\"mode_1\"]*1e9\n",
    "Pc                      = palace_results[\"eigenmode\"][\"resonator\"][\"eigen_mode_epr\"][\"mode_1\"]\n",
    "N                       = quantum_config[\"quantum_analysis\"][\"epr\"][\"mode_truncation\"]\n",
    "#hamiltonian_epr_palace  = compute_hamiltonian_epr(Lj_H=Lj, pc=Pc, pq=-Pq, fc_Hz=Fc_Hz, fq_Hz=Fq_Hz, N=N)"
   ]
  },
  {
   "cell_type": "code",
   "execution_count": 32,
   "id": "748fc866",
   "metadata": {},
   "outputs": [
    {
     "name": "stdout",
     "output_type": "stream",
     "text": [
      "                              Parameter         Value     Unit\n",
      "                                     Ej  1.027802e+01      GHz\n",
      "                                     Ec  1.566351e-01      GHz\n",
      "                                  Ej/Ec  6.561761e+01 unitless\n",
      "                                     Lj  1.590398e+01       nH\n",
      "                                C_qubit  1.236646e+02       fF\n",
      "              Participation Ratio Qubit  9.925524e-01 unitless\n",
      " Participation Ratio Qubit (Normalized)  9.999984e-01 unitless\n",
      "             Participation Ratio Cavity  1.624902e-06 unitless\n",
      "Participation Ratio Cavity (Normalized)  1.637091e-06 unitless\n",
      "                 Linear Qubit Frequency  3.425852e+00      GHz\n",
      "                        Qubit Frequency  3.278779e+00      GHz\n",
      "                    Qubit Anharmonicity -1.566351e+02      MHz\n",
      "                Linear Cavity Frequency  8.234683e+00      GHz\n",
      "                       Cavity Frequency  8.234682e+00      GHz\n",
      "                   Cavity Anharmonicity -2.417437e-09      MHz\n",
      "         Cavity-Qubit Coupling [RWA], g           NaN      MHz\n",
      "                               Detuning  4.955904e+00      GHz\n",
      "                       Flux_ZPF_squared  1.654185e-01 unitless\n"
     ]
    }
   ],
   "source": [
    "#Best\n",
    "\"\"\"Pq          = 9.910997266586e-01\n",
    "Pc          = 5.370722719364e-07\n",
    "Fq_Hz          = 3.679120875255e9   # Hz\n",
    "Fc_Hz          = 6.817183105705e9       # Hz\n",
    "Lj          = 1.5903982052718827e-08 # H\n",
    "N           = 20\"\"\"\n",
    "cos_order   = 20\n",
    "\n",
    "Hdict, spectrum, report = solve_and_report(\n",
    "    Lj_H=Lj, pc=Pc, pq=Pq, fc_Hz=Fc_Hz, fq_Hz=Fq_Hz,\n",
    "    N=N, cos_order=cos_order, k_levels=6, g_RWA_MHz=None\n",
    ")\n",
    "print(report.to_string(index=False))"
   ]
  },
  {
   "cell_type": "markdown",
   "id": "bd1effb8",
   "metadata": {},
   "source": [
    "## Mess around code below"
   ]
  },
  {
   "cell_type": "code",
   "execution_count": null,
   "id": "90172599",
   "metadata": {},
   "outputs": [],
   "source": [
    "run_inductex_simulation(\"resonator\", \"capacitance\", keep_open=False)"
   ]
  },
  {
   "cell_type": "code",
   "execution_count": null,
   "id": "0e921e85",
   "metadata": {},
   "outputs": [],
   "source": [
    "run_inductex_simulation(\"resonator\", \"inductance\", keep_open=False)"
   ]
  },
  {
   "cell_type": "code",
   "execution_count": null,
   "id": "9b948fc8",
   "metadata": {},
   "outputs": [],
   "source": [
    "quantum_config                  = ensure_config(CONFIG_PATH)\n",
    "palace_cap_config               = quantum_config[\"simulations\"][\"palace\"][\"capacitance\"]\n",
    "palace_eigenmode_config         = quantum_config[\"simulations\"][\"palace\"][\"eigenmode\"]\n",
    "palace_eigenmode_config[\"lj\"]   = junction_inductance"
   ]
  },
  {
   "cell_type": "code",
   "execution_count": null,
   "id": "ed03bd67",
   "metadata": {},
   "outputs": [],
   "source": [
    "make_palace_cap_sim(resonator_design, \"resonator\", palace_cap_config)\n",
    "run_palace_simulation(\"resonator\", \"capacitance\", palace_cap_config[\"number_of_cores\"], keep_open=False)"
   ]
  },
  {
   "cell_type": "code",
   "execution_count": null,
   "id": "c2640c0f",
   "metadata": {},
   "outputs": [],
   "source": [
    "make_palace_eigenmode_sim(full_design, \"full\", palace_eigenmode_config)\n",
    "run_palace_simulation(\"full\", \"eigenmode\", palace_eigenmode_config[\"number_of_cores\"], keep_open=False)"
   ]
  },
  {
   "cell_type": "code",
   "execution_count": null,
   "id": "e04a13f6",
   "metadata": {},
   "outputs": [],
   "source": [
    "make_palace_eigenmode_sim(resonator_design, \"resonator\", palace_eigenmode_config)\n",
    "run_palace_simulation(\"resonator\", \"eigenmode\", palace_eigenmode_config[\"number_of_cores\"], keep_open=True)"
   ]
  },
  {
   "cell_type": "code",
   "execution_count": null,
   "id": "3b838f40",
   "metadata": {},
   "outputs": [],
   "source": [
    "if True:\n",
    "    from qiskit_metal import designs, Dict\n",
    "    x = designs.DesignPlanar({}, overwrite_enabled=True);\n",
    "    gui = MetalGUI(resonator_design);\n",
    "    gui.main_window.load_stylesheet_dark();\n",
    "    gui.main_window.showMaximized();\n",
    "    gui.autoscale();\n",
    "    gui.qApp.exec_();\n",
    "    #design.rebuild()\n",
    "    #gui.rebuild()\n",
    "    #gui.autoscale()\n",
    "    #gui.show()  # Display the design in the GUI\n",
    "\n",
    "    gui.main_window.force_close = True  \n",
    "    gui.main_window.close();\n",
    "    gui.qApp.quit()"
   ]
  },
  {
   "cell_type": "code",
   "execution_count": null,
   "id": "729a9c36",
   "metadata": {},
   "outputs": [],
   "source": [
    "from SQDMetal.Utilities.CpwParams import CpwParams  \n",
    "from SQDMetal.Utilities.QUtilities import QUtilities \n",
    "from helpers import extract_um\n",
    "\n",
    "component = full_design.components[\"resonator\"]\n",
    "\n",
    "trace_width = component.options['trace_width']\n",
    "trace_gap = component.options['trace_gap']\n",
    "\n",
    "# Extract trace width and gap from your feedline  \n",
    "trace_width = QUtilities.parse_value_length(trace_width)  \n",
    "trace_gap = QUtilities.parse_value_length(trace_gap)  \n",
    "  \n",
    "# Get substrate parameters from design  \n",
    "cpw_params = CpwParams.fromQDesign(design=full_design, chip_name='main')  \n",
    "# Calculate impedance  \n",
    "impedance = CpwParams.calc_impedance(  \n",
    "    tr_wid=trace_width,  \n",
    "    tr_gap=trace_gap,  \n",
    "    er=cpw_params.rel_permittivity,  \n",
    "    h=cpw_params.dielectric_thickness  \n",
    ")  \n",
    "print(f\"Feedline impedance: {impedance:.2f} Ω\")\n",
    "  "
   ]
  }
 ],
 "metadata": {
  "kernelspec": {
   "display_name": "senv",
   "language": "python",
   "name": "python3"
  },
  "language_info": {
   "codemirror_mode": {
    "name": "ipython",
    "version": 3
   },
   "file_extension": ".py",
   "mimetype": "text/x-python",
   "name": "python",
   "nbconvert_exporter": "python",
   "pygments_lexer": "ipython3",
   "version": "3.11.13"
  }
 },
 "nbformat": 4,
 "nbformat_minor": 5
}

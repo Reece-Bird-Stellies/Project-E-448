{
 "cells": [
  {
   "cell_type": "markdown",
   "id": "2f5b2cc2",
   "metadata": {},
   "source": [
    "# Automated Hamiltonian Extract\n"
   ]
  },
  {
   "cell_type": "markdown",
   "id": "40b29bfa",
   "metadata": {},
   "source": [
    "## Imports and file structure creation"
   ]
  },
  {
   "cell_type": "code",
   "execution_count": 1,
   "id": "a195c6d0",
   "metadata": {},
   "outputs": [
    {
     "name": "stdout",
     "output_type": "stream",
     "text": [
      "FutureWarning: Module 'pyaedt' has become an alias to the new package structure. Please update you imports to use the new architecture based on 'ansys.aedt.core'. In addition, some files have been renamed to follow the PEP 8 naming convention. The old structure and file names will be deprecated in future versions, see https://aedt.docs.pyansys.com/version/stable/release_1_0.html\n"
     ]
    }
   ],
   "source": [
    "import os\n",
    "from qiskit_metal import MetalGUI\n",
    "\n",
    "from validate_config_file import *\n",
    "from helpers import *\n",
    "from make_designs import *\n",
    "from prepare_inductex_gds_files import *\n",
    "from prepare_palace_sims import *\n",
    "from prepare_inductex_sims import *\n",
    "from run_simulations import *\n",
    "from collect_simulation_results import *\n",
    "\n",
    "# MPI related environment variables \n",
    "os.environ[\"KMP_DUPLICATE_LIB_OK\"]=\"TRUE\"\n",
    "os.environ[\"PMIX_MCA_gds\"]=\"hash\"\n",
    "\n",
    "gds_types                       = ['raw', 'processed_multi_layer', 'processed_single_layer', 'simulations']\n",
    "design_names                    = ['full', 'full_no_jj', 'junction', 'transmon', 'transmon_no_jj', 'resonator', 'feedline']\n",
    "inductex_simulation_types       = ['capacitance', 'inductance', 'sparams', 'electric_field', 'magnetic_field']\n",
    "palace_simulation_types         = ['capacitance', 'eigenmode']\n",
    "os.makedirs('data', exist_ok=True)\n",
    "for gds_type in gds_types:\n",
    "    os.makedirs(f'gds_files/{gds_type}', exist_ok=True)\n",
    "\n",
    "for design in design_names:\n",
    "    for sim_type in inductex_simulation_types:\n",
    "        os.makedirs(f'simulations/inductex/{sim_type}/{design}', exist_ok=True)\n",
    "\n",
    "\n",
    "for design in design_names:\n",
    "    for sim_type in palace_simulation_types:\n",
    "        os.makedirs(f'simulations/palace/{sim_type}/{design}', exist_ok=True)\n",
    "\n",
    "\n",
    "# TODO\n",
    "# Add suport for none entries in config file\n",
    "# Double check chip z height is correct\n",
    "# Find a way to remove the xmon dummy\n",
    "#   Prehaps this can bedone with replace junction\n",
    "# Cell hirachy might be a bit busted for GDS files\n",
    "# Multiple declarations of component geos, check helper functions for uncertainty\n",
    "# claw_cpw_width and calw_cpw_length dont seem to do anything\n",
    "# The json file for all the geometry data is slightly contradictory as geometry for some things have been declared 2 or 3 times\n",
    "# this is most likely due to different simulations being done on indvidiual components or a partial design of the system\n",
    "# Removed end_straight=resonator_geo['end_straight'] from resonator as it was none and causing issues\n",
    "# Bad implementation of pin_width = pin_width*1e-3 in _get_pin_left_um and _get_pin_right_um\n",
    "# Force adjusted CPW for transmon to fit full design, didnt work use in report for source of error\n",
    "# Feed cap simulation uses feedline width to determine where to place ground label, but in reality thickness of feedline is done using resonator width couldn't\n",
    "# cause problems unless feedline width or resonator width is REALLY extreme\n",
    "# Sparam for transmon is not quite right, will fix later\n",
    "# Rename data to ref-design-data?\n",
    "# Chip thickness for make_designs might be too thin\n",
    "# Meshing problem with feedline cap sim\n",
    "# Sparams are pasted in weirdly\n",
    "# Slight bug with palace saying succesful or unsucessful when keep_open is true\n",
    "# Way too much effort to get transmon eigen sim working, don't need it since we can just use the full, will just cause problems"
   ]
  },
  {
   "cell_type": "markdown",
   "id": "5ebc4551",
   "metadata": {},
   "source": [
    "## Load and validate setup file"
   ]
  },
  {
   "cell_type": "code",
   "execution_count": 2,
   "id": "f5fea5d4",
   "metadata": {},
   "outputs": [
    {
     "name": "stdout",
     "output_type": "stream",
     "text": [
      "[config] Validation successful: 'quantum_config.json' is valid.\n",
      "[INFO] simulations\"][\"inductex\"][\"ixi\"][\"sparams_steps is: 8 (Default: 200)\n",
      "[INFO] simulations\"][\"palace\"][\"eigenmode\"][\"fine_mesh_min_size_components is: 5e-06 (Default: 1e-05)\n",
      "[INFO] simulations\"][\"palace\"][\"eigenmode\"][\"fine_mesh_min_size_junction is: 1e-05 (Default: 2e-06)\n"
     ]
    }
   ],
   "source": [
    "CONFIG_PATH                     = \"quantum_config.json\"\n",
    "quantum_config                  = ensure_config(CONFIG_PATH)\n",
    "run_inductex                    = False\n",
    "run_palace_setup                = False\n",
    "run_palace                      = False\n",
    "palace_show_conductor_indices   = False"
   ]
  },
  {
   "cell_type": "markdown",
   "id": "567f9eb0",
   "metadata": {},
   "source": [
    "## Find design from database and get master design file\n"
   ]
  },
  {
   "cell_type": "code",
   "execution_count": 3,
   "id": "9e838800",
   "metadata": {},
   "outputs": [],
   "source": [
    "design_specs                                 = quantum_config[\"design_specs\"]\n",
    "\n",
    "if os.path.exists(\"data/design_reference_data_all.json\"):\n",
    "    best_design, ref_design_specs, ref_capacitance_specs, qubit_geo, resonator_geo, feedline_geo, lj = fetch_design_fast()\n",
    "else:\n",
    "    best_design, ref_design_specs, ref_capacitance_specs, qubit_geo, resonator_geo, feedline_geo, lj = fetch_design(design_specs=design_specs, num_top=1)"
   ]
  },
  {
   "cell_type": "markdown",
   "id": "4476ae9d",
   "metadata": {},
   "source": [
    "## Save master design file and useful data"
   ]
  },
  {
   "cell_type": "code",
   "execution_count": 4,
   "id": "f411b247",
   "metadata": {},
   "outputs": [
    {
     "name": "stdout",
     "output_type": "stream",
     "text": [
      "✅ Saved to data/design_reference_data_all.json\n",
      "✅ Saved to data/design_reference_data_design_specs.json\n",
      "✅ Saved to data/design_reference_data_capacitance.json\n",
      "✅ Saved to data/design_reference_qubit_geometry.json\n",
      "✅ Saved to data/design_reference_resonator_geometry.json\n",
      "✅ Saved to data/design_reference_feedline_geometry.json\n",
      "✅ Saved to data/design_reference_junction_inductance.json\n"
     ]
    }
   ],
   "source": [
    "save_results_to_json(best_design, name=\"data/design_reference_data_all\", save=True)\n",
    "save_results_to_json(ref_design_specs, name=\"data/design_reference_data_design_specs\", save=True)\n",
    "save_results_to_json(ref_capacitance_specs, name=\"data/design_reference_data_capacitance\", save=True)\n",
    "save_results_to_json(qubit_geo, name=\"data/design_reference_qubit_geometry\", save=True)\n",
    "save_results_to_json(resonator_geo, name=\"data/design_reference_resonator_geometry\", save=True)\n",
    "save_results_to_json(feedline_geo, name=\"data/design_reference_feedline_geometry\", save=True)\n",
    "save_results_to_json(lj, name=\"data/design_reference_junction_inductance\", save=True)"
   ]
  },
  {
   "cell_type": "markdown",
   "id": "b550f123",
   "metadata": {},
   "source": [
    "## Generate Qiskit Metal designs from master design geomtery and config file"
   ]
  },
  {
   "cell_type": "code",
   "execution_count": 5,
   "id": "d987816a",
   "metadata": {},
   "outputs": [],
   "source": [
    "scaling_factor              = quantum_config[\"miscellaneous\"][\"sims\"][\"base_chip_scaling_factor\"]\n",
    "full_design                 = make_full_design(best_design, qubit_geo, resonator_geo, feedline_geo)\n",
    "full_no_jj_design           = make_full_no_jj_design(best_design, qubit_geo, resonator_geo, feedline_geo)\n",
    "junction_design             = make_junction_design(best_design, qubit_geo, resonator_geo, feedline_geo, scaling_factor=scaling_factor)\n",
    "transmon_design             = make_transmon_design(best_design, qubit_geo, resonator_geo, feedline_geo, scaling_factor=scaling_factor)\n",
    "transmon_no_jj_design       = make_transmon_no_jj_design(best_design, qubit_geo, resonator_geo, feedline_geo, scaling_factor=scaling_factor)\n",
    "resonator_design            = make_resonator_design(best_design, qubit_geo, resonator_geo, feedline_geo, scaling_factor=scaling_factor)\n",
    "feedline_design             = make_feedline_design(best_design, qubit_geo, resonator_geo, feedline_geo, scaling_factor=scaling_factor)"
   ]
  },
  {
   "cell_type": "markdown",
   "id": "46e916ab",
   "metadata": {},
   "source": [
    "## Save raw designs to GDS"
   ]
  },
  {
   "cell_type": "code",
   "execution_count": 6,
   "id": "a45add90",
   "metadata": {},
   "outputs": [
    {
     "name": "stderr",
     "output_type": "stream",
     "text": [
      "08:41PM 16s WARNING [_qgeometry_to_gds]: Unexpected shapely object geometry.The variable qgeometry_element is <class 'numpy.float64'>, method can currently handle Polygon and FlexPath.\n",
      "08:41PM 16s WARNING [_import_junctions_to_one_cell]: Not able to find file:\"../resources/Fake_Junctions.GDS\".  Not used to replace junction. Checked directory:\"c:\\Users\\reece\\Desktop\\Final Year Work\\2nd Semester\\Project (E) 448\\Simulations\\resources\".\n",
      "08:41PM 16s WARNING [_import_junctions_to_one_cell]: Not able to find file:\"../resources/Fake_Junctions.GDS\".  Not used to replace junction. Checked directory:\"c:\\Users\\reece\\Desktop\\Final Year Work\\2nd Semester\\Project (E) 448\\Simulations\\resources\".\n",
      "08:41PM 16s WARNING [_qgeometry_to_gds]: Unexpected shapely object geometry.The variable qgeometry_element is <class 'numpy.float64'>, method can currently handle Polygon and FlexPath.\n",
      "08:41PM 16s WARNING [_import_junctions_to_one_cell]: Not able to find file:\"../resources/Fake_Junctions.GDS\".  Not used to replace junction. Checked directory:\"c:\\Users\\reece\\Desktop\\Final Year Work\\2nd Semester\\Project (E) 448\\Simulations\\resources\".\n",
      "08:41PM 16s WARNING [_qgeometry_to_gds]: Unexpected shapely object geometry.The variable qgeometry_element is <class 'numpy.float64'>, method can currently handle Polygon and FlexPath.\n",
      "08:41PM 16s WARNING [_import_junctions_to_one_cell]: Not able to find file:\"../resources/Fake_Junctions.GDS\".  Not used to replace junction. Checked directory:\"c:\\Users\\reece\\Desktop\\Final Year Work\\2nd Semester\\Project (E) 448\\Simulations\\resources\".\n",
      "08:41PM 16s WARNING [_import_junctions_to_one_cell]: Not able to find file:\"../resources/Fake_Junctions.GDS\".  Not used to replace junction. Checked directory:\"c:\\Users\\reece\\Desktop\\Final Year Work\\2nd Semester\\Project (E) 448\\Simulations\\resources\".\n",
      "08:41PM 16s WARNING [_import_junctions_to_one_cell]: Not able to find file:\"../resources/Fake_Junctions.GDS\".  Not used to replace junction. Checked directory:\"c:\\Users\\reece\\Desktop\\Final Year Work\\2nd Semester\\Project (E) 448\\Simulations\\resources\".\n",
      "08:41PM 17s WARNING [_import_junctions_to_one_cell]: Not able to find file:\"../resources/Fake_Junctions.GDS\".  Not used to replace junction. Checked directory:\"c:\\Users\\reece\\Desktop\\Final Year Work\\2nd Semester\\Project (E) 448\\Simulations\\resources\".\n"
     ]
    }
   ],
   "source": [
    "to_gds(full_design, filename=\"gds_files/raw/full.gds\")  \n",
    "to_gds(full_no_jj_design, filename=\"gds_files/raw/full_no_jj.gds\")  \n",
    "to_gds(junction_design, filename=\"gds_files/raw/junction.gds\")  \n",
    "to_gds(transmon_design, filename=\"gds_files/raw/transmon.gds\")  \n",
    "to_gds(transmon_no_jj_design, filename=\"gds_files/raw/transmon_no_jj.gds\")  \n",
    "to_gds(resonator_design, filename=\"gds_files/raw/resonator.gds\")  \n",
    "to_gds(feedline_design, filename=\"gds_files/raw/feedline.gds\")  "
   ]
  },
  {
   "cell_type": "markdown",
   "id": "fb8e4e13",
   "metadata": {},
   "source": [
    "## Process InductEx GDS files"
   ]
  },
  {
   "cell_type": "code",
   "execution_count": 7,
   "id": "2d543804",
   "metadata": {},
   "outputs": [
    {
     "name": "stdout",
     "output_type": "stream",
     "text": [
      "Boolean AND((1, 0), (3, 0)) → (0, 0) complete.\n",
      "Boolean AND((0, 0), (4, 0)) → (0, 0) complete.\n",
      "Boolean OR((4, 10), (4, 11)) → (4, 10) complete.\n",
      "Deleted layer 1, datatype 0\n",
      "Deleted layer 3, datatype 0\n",
      "Deleted layer 4, datatype 0\n",
      "Deleted layer 4, datatype 11\n",
      "✅  Wrote gds_files/processed_multi_layer/full_processed_multi.gds\n",
      "Boolean OR((0, 0), (1, 0)) → (0, 0) complete.\n",
      "Boolean OR((0, 0), (2, 0)) → (0, 0) complete.\n",
      "Boolean OR((0, 0), (3, 0)) → (0, 0) complete.\n",
      "Boolean OR((0, 0), (4, 0)) → (0, 0) complete.\n",
      "Deleted layer 1, datatype 0\n",
      "Deleted layer 2, datatype 0\n",
      "Deleted layer 3, datatype 0\n",
      "Deleted layer 4, datatype 0\n",
      "✅  Wrote gds_files/processed_single_layer/full_processed.gds\n",
      "Deleted layer 2, datatype 0\n",
      "✅  Wrote gds_files/processed_multi_layer/full_no_jj_processed_multi.gds\n",
      "Boolean OR((0, 0), (1, 0)) → (0, 0) complete.\n",
      "Boolean OR((0, 0), (3, 0)) → (0, 0) complete.\n",
      "Boolean OR((0, 0), (4, 0)) → (0, 0) complete.\n",
      "Deleted layer 1, datatype 0\n",
      "Deleted layer 3, datatype 0\n",
      "Deleted layer 4, datatype 0\n",
      "✅  Wrote gds_files/processed_single_layer/full_no_jj_processed.gds\n",
      "✅  Wrote gds_files/processed_multi_layer/junction_processed_multi.gds\n",
      "Boolean OR((2, 0), (2, 0)) → (0, 0) complete.\n",
      "Deleted layer 2, datatype 0\n",
      "✅  Wrote gds_files/processed_single_layer/junction_processed.gds\n",
      "Boolean OR((1, 0), (1, 0)) → (0, 0) complete.\n",
      "Boolean OR((1, 10), (1, 10)) → (1, 0) complete.\n",
      "Deleted layer 1, datatype 10\n",
      "✅  Wrote gds_files/processed_multi_layer/transmon_processed_multi.gds\n",
      "Boolean OR((0, 0), (1, 0)) → (0, 0) complete.\n",
      "Boolean OR((0, 0), (2, 0)) → (0, 0) complete.\n",
      "Deleted layer 1, datatype 0\n",
      "Deleted layer 2, datatype 0\n",
      "✅  Wrote gds_files/processed_single_layer/transmon_processed.gds\n",
      "Deleted layer 2, datatype 0\n",
      "✅  Wrote gds_files/processed_multi_layer/transmon_no_jj_processed_multi.gds\n",
      "Boolean OR((0, 0), (1, 0)) → (0, 0) complete.\n",
      "Deleted layer 1, datatype 0\n",
      "✅  Wrote gds_files/processed_single_layer/transmon_no_jj_processed.gds\n",
      "Boolean OR((3, 0), (3, 0)) → (0, 0) complete.\n",
      "Deleted layer 3, datatype 0\n",
      "Boolean OR((3, 11), (3, 11)) → (1, 0) complete.\n",
      "Deleted layer 3, datatype 11\n",
      "✅  Wrote gds_files/processed_multi_layer/resonator_processed_multi.gds\n",
      "Boolean OR((0, 0), (1, 0)) → (0, 0) complete.\n",
      "Deleted layer 1, datatype 0\n",
      "✅  Wrote gds_files/processed_single_layer/resonator_processed.gds\n",
      "Boolean OR((4, 10), (4, 11)) → (4, 10) complete.\n",
      "Deleted layer 4, datatype 11\n",
      "Boolean OR((4, 0), (4, 0)) → (0, 0) complete.\n",
      "Deleted layer 4, datatype 0\n",
      "Boolean OR((4, 10), (4, 10)) → (1, 0) complete.\n",
      "Deleted layer 4, datatype 10\n",
      "✅  Wrote gds_files/processed_multi_layer/feedline_processed_multi.gds\n",
      "Boolean OR((0, 0), (1, 0)) → (0, 0) complete.\n",
      "Deleted layer 1, datatype 0\n",
      "✅  Wrote gds_files/processed_single_layer/feedline_processed.gds\n"
     ]
    }
   ],
   "source": [
    "process_full_gds()\n",
    "process_full_no_jj_gds()\n",
    "process_junction_gds()\n",
    "process_transmon_gds()\n",
    "process_transmon_no_jj_gds()\n",
    "process_resonator_gds()\n",
    "process_feedline_gds()"
   ]
  },
  {
   "cell_type": "markdown",
   "id": "43a72686",
   "metadata": {},
   "source": [
    "## Setup InductEx GDS simulation files"
   ]
  },
  {
   "cell_type": "code",
   "execution_count": 8,
   "id": "e2e80385",
   "metadata": {},
   "outputs": [
    {
     "name": "stdout",
     "output_type": "stream",
     "text": [
      "✅  Wrote simulations/inductex/capacitance/transmon/transmon_cap.gds\n",
      "✅  Wrote simulations/inductex/capacitance/transmon_no_jj/transmon_no_jj_cap.gds\n",
      "✅  Wrote simulations/inductex/capacitance/resonator/resonator_cap.gds\n",
      "✅  Wrote simulations/inductex/capacitance/feedline/feedline_cap.gds\n",
      "✅  Wrote simulations/inductex/inductance/resonator/resonator_ind.gds\n",
      "✅  Wrote simulations/inductex/sparams/transmon/transmon_sparams.gds\n",
      "✅  Wrote simulations/inductex/sparams/transmon_no_jj/transmon_no_jj_sparams.gds\n",
      "✅  Wrote simulations/inductex/sparams/resonator/resonator_sparams.gds\n"
     ]
    }
   ],
   "source": [
    "# Capacitance Sim GDS Files\n",
    "make_inductex_cap_sim_transmon_gds(transmon_design, qubit_geo)              \n",
    "make_inductex_cap_sim_transmon_no_jj_gds(transmon_no_jj_design, qubit_geo)  \n",
    "make_inductex_cap_sim_resonator_gds(resonator_design, resonator_geo)        \n",
    "make_inductex_cap_sim_feedline_gds(feedline_design, feedline_geo)           \n",
    "\n",
    "# Inductance Sim GDS Files\n",
    "make_inductex_ind_sim_resonator_gds(resonator_design, resonator_geo)        \n",
    "\n",
    "# S-Parameter Sim GDS Files\n",
    "make_inductex_sparam_sim_transmon_gds(transmon_design, qubit_geo)                   \n",
    "make_inductex_sparam_sim_transmon_no_jj_gds(transmon_no_jj_design, qubit_geo)       \n",
    "make_inductex_sparam_sim_resonator_gds(resonator_design, resonator_geo)             "
   ]
  },
  {
   "cell_type": "code",
   "execution_count": 9,
   "id": "4dce8c0d",
   "metadata": {},
   "outputs": [],
   "source": [
    "# UNIMPLEMENTED INDUCTEX GDS SIM FILES\n",
    "\n",
    "#make_inductex_cap_sim_full_gds(full_design, qubit_geo)\n",
    "#make_inductex_cap_sim_full_no_jj_gds(full_no_jj_design, qubit_geo)\n",
    "#make_inductex_cap_sim_junction_gds(junction_design, qubit_geo)\n",
    "\n",
    "#make_inductex_ind_sim_full_gds(full_design, qubit_geo)\n",
    "#make_inductex_ind_sim_full_no_jj_gds(full_no_jj_design, qubit_geo)\n",
    "#make_inductex_ind_sim_junction_gds(junction_design, qubit_geo)\n",
    "#make_inductex_ind_sim_transmon_gds(transmon_design, qubit_geo)\n",
    "#make_inductex_ind_sim_transmon_no_jj_gds(transmon_no_jj_design, qubit_geo)\n",
    "#make_inductex_ind_sim_feedline_gds(feedline_design, feedline_geo)\n",
    "\n",
    "#make_inductex_sparam_sim_full_gds(full_design, qubit_geo)\n",
    "#make_inductex_sparam_sim_full_no_jj_gds(full_no_jj_design, qubit_geo)\n",
    "#make_inductex_sparam_sim_junction_gds(junction_design, qubit_geo)\n",
    "#make_inductex_sparam_sim_feedline_gds(feedline_design, feedline_geo)"
   ]
  },
  {
   "cell_type": "markdown",
   "id": "3c02539a",
   "metadata": {},
   "source": [
    "## Setup InductEx IXI, LDF and CIR simulation files"
   ]
  },
  {
   "cell_type": "code",
   "execution_count": 10,
   "id": "33ec19ae",
   "metadata": {},
   "outputs": [
    {
     "name": "stdout",
     "output_type": "stream",
     "text": [
      "[config] Validation successful: 'quantum_config.json' is valid.\n",
      "[INFO] simulations\"][\"inductex\"][\"ixi\"][\"sparams_steps is: 8 (Default: 200)\n",
      "[INFO] simulations\"][\"palace\"][\"eigenmode\"][\"fine_mesh_min_size_components is: 5e-06 (Default: 1e-05)\n",
      "[INFO] simulations\"][\"palace\"][\"eigenmode\"][\"fine_mesh_min_size_junction is: 1e-05 (Default: 2e-06)\n"
     ]
    }
   ],
   "source": [
    "quantum_config                    = ensure_config(CONFIG_PATH)   # Load config again for on the fly changes\n",
    "\n",
    "inductex_ixi_config               = quantum_config[\"simulations\"][\"inductex\"][\"ixi\"]\n",
    "inductex_ldf_config               = quantum_config[\"simulations\"][\"inductex\"][\"layer_definition_file\"]\n",
    "\n",
    "# Generate InductEx simulation GDS files for all designs\n",
    "designs = [full_design, full_no_jj_design, junction_design, transmon_design, transmon_no_jj_design, resonator_design, feedline_design]\n",
    "for design_name, design_obj in zip(design_names, designs):\n",
    "    make_inductex_cap_sim(design=design_obj, \n",
    "                          design_name=design_name, \n",
    "                          create_mask=False, \n",
    "                          mask_component=design_name, \n",
    "                          inductex_ixi_config=inductex_ixi_config, \n",
    "                          inductex_ldf_config=inductex_ldf_config\n",
    "                          )\n",
    "\n",
    "    make_inductex_ind_sim(design=design_obj, \n",
    "                          design_name=design_name, \n",
    "                          create_mask=False, \n",
    "                          mask_component=design_name, \n",
    "                          inductex_ixi_config=inductex_ixi_config, \n",
    "                          inductex_ldf_config=inductex_ldf_config\n",
    "                          )\n",
    "\n",
    "    make_inductex_sparam_sim(design=design_obj, \n",
    "                             design_name=design_name, \n",
    "                             create_mask=False, \n",
    "                             mask_component=design_name, \n",
    "                             inductex_ixi_config=inductex_ixi_config, \n",
    "                             inductex_ldf_config=inductex_ldf_config\n",
    "                             )\n"
   ]
  },
  {
   "cell_type": "markdown",
   "id": "519f6b2e",
   "metadata": {},
   "source": [
    "## Setup PALACE Mesh Simulation Files "
   ]
  },
  {
   "cell_type": "code",
   "execution_count": 11,
   "id": "ff9bb0be",
   "metadata": {},
   "outputs": [],
   "source": [
    "if run_palace_setup:\n",
    "    quantum_config                               = ensure_config(CONFIG_PATH)   # Load config here for easy use\n",
    "\n",
    "    palace_cap_config               = quantum_config[\"simulations\"][\"palace\"][\"capacitance\"]\n",
    "    palace_eigenmode_config         = quantum_config[\"simulations\"][\"palace\"][\"eigenmode\"]\n",
    "    palace_eigenmode_config[\"lj\"]   = lj\n",
    "\n",
    "    cap_sim_list = []\n",
    "    cap_sim_list.append(make_palace_cap_sim(transmon_design, \"transmon\", palace_cap_config))        \n",
    "    cap_sim_list.append(make_palace_cap_sim(transmon_no_jj_design, \"transmon_no_jj\", palace_cap_config))\n",
    "    cap_sim_list.append(make_palace_cap_sim(resonator_design, \"resonator\", palace_cap_config))        \n",
    "    cap_sim_list.append(make_palace_cap_sim(feedline_design, \"feedline\", palace_cap_config))          \n",
    "\n",
    "    eigen_sim_list = []\n",
    "    eigen_sim_list.append(make_palace_eigenmode_sim(full_design, \"full\", palace_eigenmode_config))   \n",
    "    eigen_sim_list.append(make_palace_eigenmode_sim(full_no_jj_design, \"full_no_jj\", palace_eigenmode_config))    \n",
    "    eigen_sim_list.append(make_palace_eigenmode_sim(resonator_design, \"resonator\", palace_eigenmode_config))\n"
   ]
  },
  {
   "cell_type": "code",
   "execution_count": 12,
   "id": "faa2f61f",
   "metadata": {},
   "outputs": [],
   "source": [
    "# UNIMPLEMENTED PALACE MESH SIM FILES\n",
    "\n",
    "#make_palace_cap_sim_full_gds(full_design, qubit_geo)\n",
    "#make_palace_cap_sim_full_no_jj_gds(full_no_jj_design, qubit_geo)\n",
    "#make_palace_cap_sim_junction_gds(junction_design, qubit_geo)\n",
    "\n",
    "#make_palace_eigenmode_sim(junction_design, \"junction\", palace_eigenmode_config)\n",
    "#make_palace_eigenmode_sim(feedline_design, \"feedline\", palace_eigenmode_config)\n",
    "#make_palace_eigenmode_sim(transmon_design, \"transmon\", palace_eigenmode_config)   \n",
    "#make_palace_eigenmode_sim(transmon_no_jj_design, \"transmon_no_jj\", palace_eigenmode_config)"
   ]
  },
  {
   "cell_type": "markdown",
   "id": "d8e08c70",
   "metadata": {},
   "source": [
    "## Optionally show sims and their conductor indices"
   ]
  },
  {
   "cell_type": "code",
   "execution_count": 13,
   "id": "adcb3f17",
   "metadata": {},
   "outputs": [],
   "source": [
    "if palace_show_conductor_indices:\n",
    "    for cap_sim in cap_sim_list:\n",
    "        cap_sim.display_conductor_indices()\n",
    "    for eigen_sim in eigen_sim_list:\n",
    "        epr_data = eigen_sim.retrieve_EPR_data()  \n",
    "        mode_port_epr = eigen_sim.retrieve_mode_port_EPR()"
   ]
  },
  {
   "cell_type": "markdown",
   "id": "8652c892",
   "metadata": {},
   "source": [
    "## Run Inductex simulations"
   ]
  },
  {
   "cell_type": "code",
   "execution_count": 14,
   "id": "ba2e5382",
   "metadata": {},
   "outputs": [],
   "source": [
    "# Select either capacitance, inductance, sparams, or eigenmode \n",
    "if run_inductex:\n",
    "    run_inductex_simulation(\"transmon\", \"capacitance\", keep_open=False)\n",
    "    run_inductex_simulation(\"transmon_no_jj\", \"capacitance\", keep_open=False)\n",
    "    run_inductex_simulation(\"resonator\", \"capacitance\", keep_open=False)\n",
    "    run_inductex_simulation(\"feedline\", \"capacitance\", keep_open=False)        \n",
    "\n",
    "    run_inductex_simulation(\"resonator\", \"inductance\", keep_open=False)\n",
    "\n",
    "    run_inductex_simulation(\"transmon\", \"sparams\", keep_open=False)\n",
    "    run_inductex_simulation(\"transmon_no_jj\", \"sparams\", keep_open=False)\n",
    "    run_inductex_simulation(\"resonator\", \"sparams\", keep_open=False)"
   ]
  },
  {
   "cell_type": "markdown",
   "id": "d1fb25fb",
   "metadata": {},
   "source": [
    "## Run PALACE Simulations"
   ]
  },
  {
   "cell_type": "code",
   "execution_count": 15,
   "id": "a1d0678c",
   "metadata": {},
   "outputs": [],
   "source": [
    "if run_palace:\n",
    "    run_palace_simulation(\"transmon\", \"capacitance\", palace_eigenmode_config[\"number_of_cores\"], keep_open=False)\n",
    "    run_palace_simulation(\"transmon_no_jj\", \"capacitance\", palace_eigenmode_config[\"number_of_cores\"], keep_open=False)\n",
    "    run_palace_simulation(\"resonator\", \"capacitance\", palace_eigenmode_config[\"number_of_cores\"], keep_open=False)\n",
    "    run_palace_simulation(\"feedline\", \"capacitance\", palace_eigenmode_config[\"number_of_cores\"], keep_open=False)\n",
    "\n",
    "    run_palace_simulation(\"full\", \"eigenmode\", palace_eigenmode_config[\"number_of_cores\"], keep_open=False)\n",
    "    run_palace_simulation(\"full_no_jj\", \"eigenmode\", palace_eigenmode_config[\"number_of_cores\"], keep_open=False)\n",
    "    run_palace_simulation(\"resonator\", \"eigenmode\", palace_eigenmode_config[\"number_of_cores\"], keep_open=False)\n"
   ]
  },
  {
   "cell_type": "markdown",
   "id": "bd1effb8",
   "metadata": {},
   "source": [
    "## Mess around code below"
   ]
  },
  {
   "cell_type": "code",
   "execution_count": null,
   "id": "9b948fc8",
   "metadata": {},
   "outputs": [],
   "source": [
    "quantum_config                  = ensure_config(CONFIG_PATH)\n",
    "palace_cap_config               = quantum_config[\"simulations\"][\"palace\"][\"capacitance\"]\n",
    "palace_eigenmode_config         = quantum_config[\"simulations\"][\"palace\"][\"eigenmode\"]\n",
    "palace_eigenmode_config[\"lj\"]   = lj"
   ]
  },
  {
   "cell_type": "code",
   "execution_count": null,
   "id": "ed03bd67",
   "metadata": {},
   "outputs": [],
   "source": [
    "make_palace_cap_sim(resonator_design, \"resonator\", palace_cap_config)\n",
    "run_palace_simulation(\"resonator\", \"capacitance\", palace_cap_config[\"number_of_cores\"], keep_open=False)"
   ]
  },
  {
   "cell_type": "code",
   "execution_count": null,
   "id": "c2640c0f",
   "metadata": {},
   "outputs": [],
   "source": [
    "make_palace_eigenmode_sim(full_design, \"full\", palace_eigenmode_config)\n",
    "run_palace_simulation(\"full\", \"eigenmode\", palace_eigenmode_config[\"number_of_cores\"], keep_open=False)"
   ]
  },
  {
   "cell_type": "code",
   "execution_count": null,
   "id": "e04a13f6",
   "metadata": {},
   "outputs": [],
   "source": [
    "make_palace_eigenmode_sim(resonator_design, \"resonator\", palace_eigenmode_config)\n",
    "run_palace_simulation(\"resonator\", \"eigenmode\", palace_eigenmode_config[\"number_of_cores\"], keep_open=False)"
   ]
  },
  {
   "cell_type": "code",
   "execution_count": null,
   "id": "3b838f40",
   "metadata": {},
   "outputs": [],
   "source": [
    "if False:\n",
    "    from qiskit_metal import designs, Dict\n",
    "    x = designs.DesignPlanar({}, overwrite_enabled=True);\n",
    "    gui = MetalGUI(transmon_design);\n",
    "    gui.main_window.load_stylesheet_dark();\n",
    "    gui.main_window.showMaximized();\n",
    "    gui.autoscale();\n",
    "    gui.qApp.exec_();\n",
    "    #design.rebuild()\n",
    "    #gui.rebuild()\n",
    "    #gui.autoscale()\n",
    "    #gui.show()  # Display the design in the GUI\n",
    "\n",
    "    gui.main_window.force_close = True  \n",
    "    gui.main_window.close();\n",
    "    gui.qApp.quit()"
   ]
  },
  {
   "cell_type": "code",
   "execution_count": null,
   "id": "729a9c36",
   "metadata": {},
   "outputs": [],
   "source": [
    "from SQDMetal.Utilities.CpwParams import CpwParams  \n",
    "from SQDMetal.Utilities.QUtilities import QUtilities \n",
    "from helpers import extract_um\n",
    "\n",
    "component = full_design.components[\"feedline\"]\n",
    "\n",
    "trace_width = component.options['trace_width']\n",
    "trace_gap = component.options['trace_gap']\n",
    "\n",
    "# Extract trace width and gap from your feedline  \n",
    "trace_width = QUtilities.parse_value_length(trace_width)  \n",
    "trace_gap = QUtilities.parse_value_length(trace_gap)  \n",
    "  \n",
    "# Get substrate parameters from design  \n",
    "cpw_params = CpwParams.fromQDesign(design=full_design, chip_name='main')  \n",
    "# Calculate impedance  \n",
    "impedance = CpwParams.calc_impedance(  \n",
    "    tr_wid=trace_width,  \n",
    "    tr_gap=trace_gap,  \n",
    "    er=cpw_params.rel_permittivity,  \n",
    "    h=cpw_params.dielectric_thickness  \n",
    ")  \n",
    "print(f\"Feedline impedance: {impedance:.2f} Ω\")\n",
    "  "
   ]
  },
  {
   "cell_type": "code",
   "execution_count": 16,
   "id": "a852e1d5",
   "metadata": {},
   "outputs": [
    {
     "name": "stdout",
     "output_type": "stream",
     "text": [
      "✅ Saved to data/inductex_sim_results.json\n",
      "✅ Saved to data/inductex_sim_times.json\n"
     ]
    }
   ],
   "source": [
    "results, time = collect_inductex_results(design_names, inductex_simulation_types)\n",
    "\n",
    "save_results_to_json(results, name=\"data/inductex_sim_results\", save=True, orient=\"records\", indent=2)\n",
    "save_results_to_json(time, name=\"data/inductex_sim_times\", save=True, orient=\"records\", indent=2)"
   ]
  },
  {
   "cell_type": "code",
   "execution_count": 21,
   "id": "f9a194b2",
   "metadata": {},
   "outputs": [
    {
     "name": "stdout",
     "output_type": "stream",
     "text": [
      "✅ Saved to data/palace_sim_results.json\n",
      "✅ Saved to data/palace_sim_times.json\n"
     ]
    }
   ],
   "source": [
    "results, time = collect_palace_results(design_names, palace_simulation_types)\n",
    "\n",
    "save_results_to_json(results, name=\"data/palace_sim_results\", save=True, orient=\"records\", indent=2)\n",
    "save_results_to_json(time, name=\"data/palace_sim_times\", save=True, orient=\"records\", indent=2)"
   ]
  }
 ],
 "metadata": {
  "kernelspec": {
   "display_name": "senv",
   "language": "python",
   "name": "python3"
  },
  "language_info": {
   "codemirror_mode": {
    "name": "ipython",
    "version": 3
   },
   "file_extension": ".py",
   "mimetype": "text/x-python",
   "name": "python",
   "nbconvert_exporter": "python",
   "pygments_lexer": "ipython3",
   "version": "3.11.13"
  }
 },
 "nbformat": 4,
 "nbformat_minor": 5
}

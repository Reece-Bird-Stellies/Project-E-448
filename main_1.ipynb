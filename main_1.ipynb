{
 "cells": [
  {
   "cell_type": "markdown",
   "id": "2f5b2cc2",
   "metadata": {},
   "source": [
    "# Automated Hamiltonian Extraction\n"
   ]
  },
  {
   "cell_type": "markdown",
   "id": "40b29bfa",
   "metadata": {},
   "source": [
    "## Imports and file structure creation"
   ]
  },
  {
   "cell_type": "code",
   "execution_count": 1,
   "id": "a195c6d0",
   "metadata": {},
   "outputs": [
    {
     "name": "stdout",
     "output_type": "stream",
     "text": [
      "FutureWarning: Module 'pyaedt' has become an alias to the new package structure. Please update you imports to use the new architecture based on 'ansys.aedt.core'. In addition, some files have been renamed to follow the PEP 8 naming convention. The old structure and file names will be deprecated in future versions, see https://aedt.docs.pyansys.com/version/stable/release_1_0.html\n"
     ]
    }
   ],
   "source": [
    "import os\n",
    "from qiskit_metal import MetalGUI\n",
    "from scipy.constants import Planck, e, hbar, h\n",
    "import numpy as np\n",
    "\n",
    "from validate_config_file import *\n",
    "from helpers import *\n",
    "from make_designs import *\n",
    "from prepare_inductex_gds_files import *\n",
    "from prepare_palace_sims import *\n",
    "from prepare_inductex_sims import *\n",
    "from run_simulations import *\n",
    "from collect_simulation_results import *\n",
    "from quantum_analysis_lom import *\n",
    "from quantum_analysis_epr import *\n",
    "from generate_report import *\n",
    "from analyse_hamiltonian import *\n",
    "from post_processing import *\n",
    "\n",
    "# MPI related environment variables \n",
    "os.environ[\"KMP_DUPLICATE_LIB_OK\"]=\"TRUE\"\n",
    "os.environ[\"PMIX_MCA_gds\"]=\"hash\"\n",
    "\n",
    "gds_types                       = ['raw', 'processed_multi_layer', 'processed_single_layer', 'simulations']\n",
    "design_names                    = ['full', 'full_no_jj', 'junction', 'transmon', 'transmon_no_jj', 'resonator', 'feedline']\n",
    "inductex_simulation_types       = ['capacitance', 'inductance', 'sparams', 'electric_field', 'magnetic_field']\n",
    "palace_simulation_types         = ['capacitance', 'eigenmode']\n",
    "os.makedirs('data', exist_ok=True)\n",
    "for gds_type in gds_types:\n",
    "    os.makedirs(f'gds_files/{gds_type}', exist_ok=True)\n",
    "\n",
    "for design in design_names:\n",
    "    for sim_type in inductex_simulation_types:\n",
    "        os.makedirs(f'simulations/inductex/{sim_type}/{design}', exist_ok=True)\n",
    "\n",
    "\n",
    "for design in design_names:\n",
    "    for sim_type in palace_simulation_types:\n",
    "        os.makedirs(f'simulations/palace/{sim_type}/{design}', exist_ok=True)\n",
    "\n",
    "\n",
    "# TODO\n",
    "# Add suport for none entries in config file\n",
    "# Double check chip z height is correct\n",
    "# Find a way to remove the xmon dummy\n",
    "#   Prehaps this can bedone with replace junction\n",
    "# Cell hirachy might be a bit busted for GDS files\n",
    "# Multiple declarations of component geos, check helper functions for uncertainty\n",
    "# claw_cpw_width and calw_cpw_length dont seem to do anything\n",
    "# The json file for all the geometry data is slightly contradictory as geometry for some things have been declared 2 or 3 times\n",
    "# this is most likely due to different simulations being done on indvidiual components or a partial design of the system\n",
    "# Removed end_straight=resonator_geo['end_straight'] from resonator as it was none and causing issues\n",
    "# Bad implementation of pin_width = pin_width*1e-3 in _get_pin_left_um and _get_pin_right_um\n",
    "# Force adjusted CPW for transmon to fit full design, didnt work use in report for source of error\n",
    "# Feed cap simulation uses feedline width to determine where to place ground label, but in reality thickness of feedline is done using resonator width couldn't\n",
    "# cause problems unless feedline width or resonator width is REALLY extreme\n",
    "# Sparam for transmon is not quite right, will fix later\n",
    "# Rename data to ref-design-data?\n",
    "# Chip thickness for make_designs might be too thin\n",
    "# Meshing problem with feedline cap sim\n",
    "# Sparams are pasted in weirdly\n",
    "# Slight bug with palace saying succesful or unsucessful when keep_open is true\n",
    "# Way too much effort to get transmon eigen sim working, don't need it since we can just use the full, will just cause problems\n",
    "# Using cavity-qubit notation in LOM analysis\n",
    "# Epsilon below\n",
    "# if empty results continue\n",
    "# Weird shit at the end of validate file"
   ]
  },
  {
   "cell_type": "markdown",
   "id": "5ebc4551",
   "metadata": {},
   "source": [
    "## Load and validate setup file"
   ]
  },
  {
   "cell_type": "code",
   "execution_count": null,
   "id": "f5fea5d4",
   "metadata": {},
   "outputs": [
    {
     "name": "stdout",
     "output_type": "stream",
     "text": [
      "[config] Validation successful: 'quantum_config.json' is valid.\n",
      "[INFO] simulations\"][\"inductex\"][\"ixi\"][\"sparams_steps is: 8 (Default: 200)\n"
     ]
    }
   ],
   "source": [
    "CONFIG_PATH                     = \"quantum_config.json\"\n",
    "quantum_config                  = ensure_config(CONFIG_PATH)\n",
    "run_inductex                    = False\n",
    "run_palace_setup                = False\n",
    "run_palace                      = False\n",
    "palace_show_conductor_indices   = False"
   ]
  },
  {
   "cell_type": "markdown",
   "id": "567f9eb0",
   "metadata": {},
   "source": [
    "## Find design from database and get master design file\n"
   ]
  },
  {
   "cell_type": "code",
   "execution_count": 3,
   "id": "9e838800",
   "metadata": {},
   "outputs": [],
   "source": [
    "design_specs                                 = quantum_config[\"design_specs\"]\n",
    "\n",
    "if os.path.exists(\"data/design_reference_data_all.json\"):\n",
    "    best_design, ref_design_specs, ref_cap_data, qubit_geo, resonator_geo, feedline_geo, junction_inductance = fetch_design_fast()\n",
    "else:\n",
    "    best_design, ref_design_specs, ref_cap_data, qubit_geo, resonator_geo, feedline_geo, junction_inductance = fetch_design(design_specs=design_specs, num_top=1)"
   ]
  },
  {
   "cell_type": "markdown",
   "id": "4476ae9d",
   "metadata": {},
   "source": [
    "## Save master design file and useful data"
   ]
  },
  {
   "cell_type": "code",
   "execution_count": 4,
   "id": "f411b247",
   "metadata": {},
   "outputs": [
    {
     "name": "stdout",
     "output_type": "stream",
     "text": [
      "✅ Saved to data/design_reference_data_all.json\n",
      "✅ Saved to data/design_reference_data_design_specs.json\n",
      "✅ Saved to data/design_reference_data_capacitance.json\n",
      "✅ Saved to data/design_reference_qubit_geometry.json\n",
      "✅ Saved to data/design_reference_resonator_geometry.json\n",
      "✅ Saved to data/design_reference_feedline_geometry.json\n",
      "✅ Saved to data/design_reference_junction_inductance.json\n"
     ]
    }
   ],
   "source": [
    "save_results_to_json(best_design, name=\"data/design_reference_data_all\", save=True)\n",
    "save_results_to_json(ref_design_specs, name=\"data/design_reference_data_design_specs\", save=True)\n",
    "save_results_to_json(ref_cap_data, name=\"data/design_reference_data_capacitance\", save=True)\n",
    "save_results_to_json(qubit_geo, name=\"data/design_reference_qubit_geometry\", save=True)\n",
    "save_results_to_json(resonator_geo, name=\"data/design_reference_resonator_geometry\", save=True)\n",
    "save_results_to_json(feedline_geo, name=\"data/design_reference_feedline_geometry\", save=True)\n",
    "save_results_to_json(junction_inductance, name=\"data/design_reference_junction_inductance\", save=True)"
   ]
  },
  {
   "cell_type": "markdown",
   "id": "b550f123",
   "metadata": {},
   "source": [
    "## Generate Qiskit Metal designs from master design geomtery and config file"
   ]
  },
  {
   "cell_type": "code",
   "execution_count": 5,
   "id": "d987816a",
   "metadata": {},
   "outputs": [],
   "source": [
    "scaling_factor              = quantum_config[\"miscellaneous\"][\"sims\"][\"base_chip_scaling_factor\"]\n",
    "full_design                 = make_full_design(best_design, qubit_geo, resonator_geo, feedline_geo)\n",
    "full_no_jj_design           = make_full_no_jj_design(best_design, qubit_geo, resonator_geo, feedline_geo)\n",
    "junction_design             = make_junction_design(best_design, qubit_geo, resonator_geo, feedline_geo, scaling_factor=scaling_factor)\n",
    "transmon_design             = make_transmon_design(best_design, qubit_geo, resonator_geo, feedline_geo, scaling_factor=scaling_factor)\n",
    "transmon_no_jj_design       = make_transmon_no_jj_design(best_design, qubit_geo, resonator_geo, feedline_geo, scaling_factor=scaling_factor)\n",
    "resonator_design            = make_resonator_design(best_design, qubit_geo, resonator_geo, feedline_geo, scaling_factor=scaling_factor)\n",
    "feedline_design             = make_feedline_design(best_design, qubit_geo, resonator_geo, feedline_geo, scaling_factor=scaling_factor)"
   ]
  },
  {
   "cell_type": "markdown",
   "id": "46e916ab",
   "metadata": {},
   "source": [
    "## Save raw designs to GDS"
   ]
  },
  {
   "cell_type": "code",
   "execution_count": 6,
   "id": "a45add90",
   "metadata": {},
   "outputs": [
    {
     "name": "stderr",
     "output_type": "stream",
     "text": [
      "09:56AM 39s WARNING [_qgeometry_to_gds]: Unexpected shapely object geometry.The variable qgeometry_element is <class 'numpy.float64'>, method can currently handle Polygon and FlexPath.\n",
      "09:56AM 39s WARNING [_import_junctions_to_one_cell]: Not able to find file:\"../resources/Fake_Junctions.GDS\".  Not used to replace junction. Checked directory:\"c:\\Users\\reece\\Desktop\\Final Year Work\\2nd Semester\\Project (E) 448\\Simulations\\resources\".\n",
      "09:56AM 39s WARNING [_import_junctions_to_one_cell]: Not able to find file:\"../resources/Fake_Junctions.GDS\".  Not used to replace junction. Checked directory:\"c:\\Users\\reece\\Desktop\\Final Year Work\\2nd Semester\\Project (E) 448\\Simulations\\resources\".\n",
      "09:56AM 39s WARNING [_qgeometry_to_gds]: Unexpected shapely object geometry.The variable qgeometry_element is <class 'numpy.float64'>, method can currently handle Polygon and FlexPath.\n",
      "09:56AM 39s WARNING [_import_junctions_to_one_cell]: Not able to find file:\"../resources/Fake_Junctions.GDS\".  Not used to replace junction. Checked directory:\"c:\\Users\\reece\\Desktop\\Final Year Work\\2nd Semester\\Project (E) 448\\Simulations\\resources\".\n",
      "09:56AM 39s WARNING [_qgeometry_to_gds]: Unexpected shapely object geometry.The variable qgeometry_element is <class 'numpy.float64'>, method can currently handle Polygon and FlexPath.\n",
      "09:56AM 39s WARNING [_import_junctions_to_one_cell]: Not able to find file:\"../resources/Fake_Junctions.GDS\".  Not used to replace junction. Checked directory:\"c:\\Users\\reece\\Desktop\\Final Year Work\\2nd Semester\\Project (E) 448\\Simulations\\resources\".\n",
      "09:56AM 39s WARNING [_import_junctions_to_one_cell]: Not able to find file:\"../resources/Fake_Junctions.GDS\".  Not used to replace junction. Checked directory:\"c:\\Users\\reece\\Desktop\\Final Year Work\\2nd Semester\\Project (E) 448\\Simulations\\resources\".\n",
      "09:56AM 40s WARNING [_import_junctions_to_one_cell]: Not able to find file:\"../resources/Fake_Junctions.GDS\".  Not used to replace junction. Checked directory:\"c:\\Users\\reece\\Desktop\\Final Year Work\\2nd Semester\\Project (E) 448\\Simulations\\resources\".\n",
      "09:56AM 40s WARNING [_import_junctions_to_one_cell]: Not able to find file:\"../resources/Fake_Junctions.GDS\".  Not used to replace junction. Checked directory:\"c:\\Users\\reece\\Desktop\\Final Year Work\\2nd Semester\\Project (E) 448\\Simulations\\resources\".\n"
     ]
    }
   ],
   "source": [
    "to_gds(full_design, filename=\"gds_files/raw/full.gds\")  \n",
    "to_gds(full_no_jj_design, filename=\"gds_files/raw/full_no_jj.gds\")  \n",
    "to_gds(junction_design, filename=\"gds_files/raw/junction.gds\")  \n",
    "to_gds(transmon_design, filename=\"gds_files/raw/transmon.gds\")  \n",
    "to_gds(transmon_no_jj_design, filename=\"gds_files/raw/transmon_no_jj.gds\")  \n",
    "to_gds(resonator_design, filename=\"gds_files/raw/resonator.gds\")  \n",
    "to_gds(feedline_design, filename=\"gds_files/raw/feedline.gds\")  "
   ]
  },
  {
   "cell_type": "markdown",
   "id": "fb8e4e13",
   "metadata": {},
   "source": [
    "## Process InductEx GDS files"
   ]
  },
  {
   "cell_type": "code",
   "execution_count": 7,
   "id": "2d543804",
   "metadata": {},
   "outputs": [
    {
     "name": "stdout",
     "output_type": "stream",
     "text": [
      "Boolean AND((1, 0), (3, 0)) → (0, 0) complete.\n",
      "Boolean AND((0, 0), (4, 0)) → (0, 0) complete.\n",
      "Boolean OR((4, 10), (4, 11)) → (4, 10) complete.\n",
      "Deleted layer 1, datatype 0\n",
      "Deleted layer 3, datatype 0\n",
      "Deleted layer 4, datatype 0\n",
      "Deleted layer 4, datatype 11\n",
      "✅  Wrote gds_files/processed_multi_layer/full_processed_multi.gds\n",
      "Boolean OR((0, 0), (1, 0)) → (0, 0) complete.\n",
      "Boolean OR((0, 0), (2, 0)) → (0, 0) complete.\n",
      "Boolean OR((0, 0), (3, 0)) → (0, 0) complete.\n",
      "Boolean OR((0, 0), (4, 0)) → (0, 0) complete.\n",
      "Deleted layer 1, datatype 0\n",
      "Deleted layer 2, datatype 0\n",
      "Deleted layer 3, datatype 0\n",
      "Deleted layer 4, datatype 0\n",
      "✅  Wrote gds_files/processed_single_layer/full_processed.gds\n",
      "Deleted layer 2, datatype 0\n",
      "✅  Wrote gds_files/processed_multi_layer/full_no_jj_processed_multi.gds\n",
      "Boolean OR((0, 0), (1, 0)) → (0, 0) complete.\n",
      "Boolean OR((0, 0), (3, 0)) → (0, 0) complete.\n",
      "Boolean OR((0, 0), (4, 0)) → (0, 0) complete.\n",
      "Deleted layer 1, datatype 0\n",
      "Deleted layer 3, datatype 0\n",
      "Deleted layer 4, datatype 0\n",
      "✅  Wrote gds_files/processed_single_layer/full_no_jj_processed.gds\n",
      "✅  Wrote gds_files/processed_multi_layer/junction_processed_multi.gds\n",
      "Boolean OR((2, 0), (2, 0)) → (0, 0) complete.\n",
      "Deleted layer 2, datatype 0\n",
      "✅  Wrote gds_files/processed_single_layer/junction_processed.gds\n",
      "Boolean OR((1, 0), (1, 0)) → (0, 0) complete.\n",
      "Boolean OR((1, 10), (1, 10)) → (1, 0) complete.\n",
      "Deleted layer 1, datatype 10\n",
      "✅  Wrote gds_files/processed_multi_layer/transmon_processed_multi.gds\n",
      "Boolean OR((0, 0), (1, 0)) → (0, 0) complete.\n",
      "Boolean OR((0, 0), (2, 0)) → (0, 0) complete.\n",
      "Deleted layer 1, datatype 0\n",
      "Deleted layer 2, datatype 0\n",
      "✅  Wrote gds_files/processed_single_layer/transmon_processed.gds\n",
      "Deleted layer 2, datatype 0\n",
      "✅  Wrote gds_files/processed_multi_layer/transmon_no_jj_processed_multi.gds\n",
      "Boolean OR((0, 0), (1, 0)) → (0, 0) complete.\n",
      "Deleted layer 1, datatype 0\n",
      "✅  Wrote gds_files/processed_single_layer/transmon_no_jj_processed.gds\n",
      "Boolean OR((3, 0), (3, 0)) → (0, 0) complete.\n",
      "Deleted layer 3, datatype 0\n",
      "Boolean OR((3, 11), (3, 11)) → (1, 0) complete.\n",
      "Deleted layer 3, datatype 11\n",
      "✅  Wrote gds_files/processed_multi_layer/resonator_processed_multi.gds\n",
      "Boolean OR((0, 0), (1, 0)) → (0, 0) complete.\n",
      "Deleted layer 1, datatype 0\n",
      "✅  Wrote gds_files/processed_single_layer/resonator_processed.gds\n",
      "Boolean OR((4, 10), (4, 11)) → (4, 10) complete.\n",
      "Deleted layer 4, datatype 11\n",
      "Boolean OR((4, 0), (4, 0)) → (0, 0) complete.\n",
      "Deleted layer 4, datatype 0\n",
      "Boolean OR((4, 10), (4, 10)) → (1, 0) complete.\n",
      "Deleted layer 4, datatype 10\n",
      "✅  Wrote gds_files/processed_multi_layer/feedline_processed_multi.gds\n",
      "Boolean OR((0, 0), (1, 0)) → (0, 0) complete.\n",
      "Deleted layer 1, datatype 0\n",
      "✅  Wrote gds_files/processed_single_layer/feedline_processed.gds\n"
     ]
    }
   ],
   "source": [
    "process_full_gds()\n",
    "process_full_no_jj_gds()\n",
    "process_junction_gds()\n",
    "process_transmon_gds()\n",
    "process_transmon_no_jj_gds()\n",
    "process_resonator_gds()\n",
    "process_feedline_gds()"
   ]
  },
  {
   "cell_type": "markdown",
   "id": "43a72686",
   "metadata": {},
   "source": [
    "## Setup InductEx GDS simulation files"
   ]
  },
  {
   "cell_type": "code",
   "execution_count": 8,
   "id": "e2e80385",
   "metadata": {},
   "outputs": [
    {
     "name": "stdout",
     "output_type": "stream",
     "text": [
      "✅  Wrote simulations/inductex/capacitance/transmon/transmon_cap.gds\n",
      "✅  Wrote simulations/inductex/capacitance/transmon_no_jj/transmon_no_jj_cap.gds\n",
      "✅  Wrote simulations/inductex/capacitance/resonator/resonator_cap.gds\n",
      "✅  Wrote simulations/inductex/capacitance/feedline/feedline_cap.gds\n",
      "✅  Wrote simulations/inductex/inductance/resonator/resonator_ind.gds\n",
      "✅  Wrote simulations/inductex/sparams/transmon/transmon_sparams.gds\n",
      "✅  Wrote simulations/inductex/sparams/transmon_no_jj/transmon_no_jj_sparams.gds\n",
      "✅  Wrote simulations/inductex/sparams/resonator/resonator_sparams.gds\n"
     ]
    }
   ],
   "source": [
    "# Capacitance Sim GDS Files\n",
    "make_inductex_cap_sim_transmon_gds(transmon_design, qubit_geo)              \n",
    "make_inductex_cap_sim_transmon_no_jj_gds(transmon_no_jj_design, qubit_geo)  \n",
    "make_inductex_cap_sim_resonator_gds(resonator_design, resonator_geo)        \n",
    "make_inductex_cap_sim_feedline_gds(feedline_design, feedline_geo)           \n",
    "\n",
    "# Inductance Sim GDS Files\n",
    "make_inductex_ind_sim_resonator_gds(resonator_design, resonator_geo)        \n",
    "\n",
    "# S-Parameter Sim GDS Files\n",
    "make_inductex_sparam_sim_transmon_gds(transmon_design, qubit_geo)                   \n",
    "make_inductex_sparam_sim_transmon_no_jj_gds(transmon_no_jj_design, qubit_geo)       \n",
    "make_inductex_sparam_sim_resonator_gds(resonator_design, resonator_geo)             "
   ]
  },
  {
   "cell_type": "code",
   "execution_count": 9,
   "id": "4dce8c0d",
   "metadata": {},
   "outputs": [],
   "source": [
    "# UNIMPLEMENTED INDUCTEX GDS SIM FILES\n",
    "\n",
    "#make_inductex_cap_sim_full_gds(full_design, qubit_geo)\n",
    "#make_inductex_cap_sim_full_no_jj_gds(full_no_jj_design, qubit_geo)\n",
    "#make_inductex_cap_sim_junction_gds(junction_design, qubit_geo)\n",
    "\n",
    "#make_inductex_ind_sim_full_gds(full_design, qubit_geo)\n",
    "#make_inductex_ind_sim_full_no_jj_gds(full_no_jj_design, qubit_geo)\n",
    "#make_inductex_ind_sim_junction_gds(junction_design, qubit_geo)\n",
    "#make_inductex_ind_sim_transmon_gds(transmon_design, qubit_geo)\n",
    "#make_inductex_ind_sim_transmon_no_jj_gds(transmon_no_jj_design, qubit_geo)\n",
    "#make_inductex_ind_sim_feedline_gds(feedline_design, feedline_geo)\n",
    "\n",
    "#make_inductex_sparam_sim_full_gds(full_design, qubit_geo)\n",
    "#make_inductex_sparam_sim_full_no_jj_gds(full_no_jj_design, qubit_geo)\n",
    "#make_inductex_sparam_sim_junction_gds(junction_design, qubit_geo)\n",
    "#make_inductex_sparam_sim_feedline_gds(feedline_design, feedline_geo)"
   ]
  },
  {
   "cell_type": "markdown",
   "id": "3c02539a",
   "metadata": {},
   "source": [
    "## Setup InductEx IXI, LDF and CIR simulation files"
   ]
  },
  {
   "cell_type": "code",
   "execution_count": 10,
   "id": "33ec19ae",
   "metadata": {},
   "outputs": [
    {
     "name": "stdout",
     "output_type": "stream",
     "text": [
      "[config] Validation successful: 'quantum_config.json' is valid.\n",
      "[INFO] simulations\"][\"inductex\"][\"ixi\"][\"sparams_steps is: 8 (Default: 200)\n"
     ]
    }
   ],
   "source": [
    "quantum_config                    = ensure_config(CONFIG_PATH)   # Load config again for on the fly changes\n",
    "\n",
    "inductex_ixi_config               = quantum_config[\"simulations\"][\"inductex\"][\"ixi\"]\n",
    "inductex_ldf_config               = quantum_config[\"simulations\"][\"inductex\"][\"layer_definition_file\"]\n",
    "\n",
    "# Generate InductEx simulation GDS files for all designs\n",
    "designs = [full_design, full_no_jj_design, junction_design, transmon_design, transmon_no_jj_design, resonator_design, feedline_design]\n",
    "for design_name, design_obj in zip(design_names, designs):\n",
    "    make_inductex_cap_sim(design=design_obj, \n",
    "                          design_name=design_name, \n",
    "                          create_mask=False, \n",
    "                          mask_component=design_name, \n",
    "                          inductex_ixi_config=inductex_ixi_config, \n",
    "                          inductex_ldf_config=inductex_ldf_config\n",
    "                          )\n",
    "\n",
    "    make_inductex_ind_sim(design=design_obj, \n",
    "                          design_name=design_name, \n",
    "                          create_mask=False, \n",
    "                          mask_component=design_name, \n",
    "                          inductex_ixi_config=inductex_ixi_config, \n",
    "                          inductex_ldf_config=inductex_ldf_config\n",
    "                          )\n",
    "\n",
    "    make_inductex_sparam_sim(design=design_obj, \n",
    "                             design_name=design_name, \n",
    "                             create_mask=False, \n",
    "                             mask_component=design_name, \n",
    "                             inductex_ixi_config=inductex_ixi_config, \n",
    "                             inductex_ldf_config=inductex_ldf_config\n",
    "                             )\n"
   ]
  },
  {
   "cell_type": "markdown",
   "id": "519f6b2e",
   "metadata": {},
   "source": [
    "## Setup PALACE Mesh Simulation Files "
   ]
  },
  {
   "cell_type": "code",
   "execution_count": 11,
   "id": "ff9bb0be",
   "metadata": {},
   "outputs": [
    {
     "name": "stdout",
     "output_type": "stream",
     "text": [
      "[config] Validation successful: 'quantum_config.json' is valid.\n",
      "[INFO] simulations\"][\"inductex\"][\"ixi\"][\"sparams_steps is: 8 (Default: 200)\n",
      "Finished making PALACE capacitance simulation MESH and JSON files for transmon\n",
      "Finished making PALACE capacitance simulation MESH and JSON files for transmon_no_jj\n",
      "Finished making PALACE capacitance simulation MESH and JSON files for resonator\n",
      "Finished making PALACE capacitance simulation MESH and JSON files for feedline\n"
     ]
    },
    {
     "ename": "KeyboardInterrupt",
     "evalue": "",
     "output_type": "error",
     "traceback": [
      "\u001b[1;31m---------------------------------------------------------------------------\u001b[0m",
      "\u001b[1;31mKeyboardInterrupt\u001b[0m                         Traceback (most recent call last)",
      "Cell \u001b[1;32mIn[11], line 15\u001b[0m\n\u001b[0;32m     12\u001b[0m cap_sim_list\u001b[38;5;241m.\u001b[39mappend(make_palace_cap_sim(feedline_design, \u001b[38;5;124m\"\u001b[39m\u001b[38;5;124mfeedline\u001b[39m\u001b[38;5;124m\"\u001b[39m, palace_cap_config))          \n\u001b[0;32m     14\u001b[0m eigen_sim_list \u001b[38;5;241m=\u001b[39m []\n\u001b[1;32m---> 15\u001b[0m eigen_sim_list\u001b[38;5;241m.\u001b[39mappend(\u001b[43mmake_palace_eigenmode_sim\u001b[49m\u001b[43m(\u001b[49m\u001b[43mfull_design\u001b[49m\u001b[43m,\u001b[49m\u001b[43m \u001b[49m\u001b[38;5;124;43m\"\u001b[39;49m\u001b[38;5;124;43mfull\u001b[39;49m\u001b[38;5;124;43m\"\u001b[39;49m\u001b[43m,\u001b[49m\u001b[43m \u001b[49m\u001b[43mpalace_eigenmode_config\u001b[49m\u001b[43m)\u001b[49m)   \n\u001b[0;32m     16\u001b[0m eigen_sim_list\u001b[38;5;241m.\u001b[39mappend(make_palace_eigenmode_sim(full_no_jj_design, \u001b[38;5;124m\"\u001b[39m\u001b[38;5;124mfull_no_jj\u001b[39m\u001b[38;5;124m\"\u001b[39m, palace_eigenmode_config))    \n\u001b[0;32m     17\u001b[0m eigen_sim_list\u001b[38;5;241m.\u001b[39mappend(make_palace_eigenmode_sim(resonator_design, \u001b[38;5;124m\"\u001b[39m\u001b[38;5;124mresonator\u001b[39m\u001b[38;5;124m\"\u001b[39m, palace_eigenmode_config))\n",
      "File \u001b[1;32mc:\\Users\\reece\\Desktop\\Final Year Work\\2nd Semester\\Project (E) 448\\Simulations\\Final\\prepare_palace_sims.py:215\u001b[0m, in \u001b[0;36mmake_palace_eigenmode_sim\u001b[1;34m(design, design_name, palace_eigenmode_config)\u001b[0m\n\u001b[0;32m    210\u001b[0m eigen_sim\u001b[38;5;241m.\u001b[39madd_ground_plane(threshold\u001b[38;5;241m=\u001b[39m\u001b[38;5;241m1e-10\u001b[39m)\n\u001b[0;32m    211\u001b[0m eigen_sim\u001b[38;5;241m.\u001b[39msetup_EPR_interfaces(metal_air\u001b[38;5;241m=\u001b[39mMaterialInterface(\u001b[38;5;124m'\u001b[39m\u001b[38;5;124mAluminium-Vacuum\u001b[39m\u001b[38;5;124m'\u001b[39m),\n\u001b[0;32m    212\u001b[0m                             substrate_air\u001b[38;5;241m=\u001b[39mMaterialInterface(\u001b[38;5;124m'\u001b[39m\u001b[38;5;124mSilicon-Vacuum\u001b[39m\u001b[38;5;124m'\u001b[39m),\n\u001b[0;32m    213\u001b[0m                             substrate_metal\u001b[38;5;241m=\u001b[39mMaterialInterface(\u001b[38;5;124m'\u001b[39m\u001b[38;5;124mSilicon-Aluminium\u001b[39m\u001b[38;5;124m'\u001b[39m))\n\u001b[1;32m--> 215\u001b[0m \u001b[43meigen_sim\u001b[49m\u001b[38;5;241;43m.\u001b[39;49m\u001b[43mprepare_simulation\u001b[49m\u001b[43m(\u001b[49m\u001b[43m)\u001b[49m\n\u001b[0;32m    217\u001b[0m \u001b[38;5;28mprint\u001b[39m(\u001b[38;5;124mf\u001b[39m\u001b[38;5;124m\"\u001b[39m\u001b[38;5;124mFinished making PALACE eigenmode simulation MESH and JSON files for \u001b[39m\u001b[38;5;132;01m{\u001b[39;00mdesign_name\u001b[38;5;132;01m}\u001b[39;00m\u001b[38;5;124m\"\u001b[39m)\n\u001b[0;32m    219\u001b[0m \u001b[38;5;28;01mreturn\u001b[39;00m eigen_sim\n",
      "File \u001b[1;32m~\\anaconda3\\envs\\senv\\Lib\\site-packages\\SQDMetal\\SQDMetal\\PALACE\\Model.py:62\u001b[0m, in \u001b[0;36mPALACE_Model.prepare_simulation\u001b[1;34m(self)\u001b[0m\n\u001b[0;32m     61\u001b[0m \u001b[38;5;28;01mdef\u001b[39;00m \u001b[38;5;21mprepare_simulation\u001b[39m(\u001b[38;5;28mself\u001b[39m):\n\u001b[1;32m---> 62\u001b[0m     \u001b[38;5;28;43mself\u001b[39;49m\u001b[38;5;241;43m.\u001b[39;49m\u001b[43m_prepare_simulation\u001b[49m\u001b[43m(\u001b[49m\u001b[38;5;28;43mself\u001b[39;49m\u001b[38;5;241;43m.\u001b[39;49m\u001b[43m_metallic_layers\u001b[49m\u001b[43m,\u001b[49m\u001b[43m \u001b[49m\u001b[38;5;28;43mself\u001b[39;49m\u001b[38;5;241;43m.\u001b[39;49m\u001b[43m_ground_plane\u001b[49m\u001b[43m)\u001b[49m\n",
      "File \u001b[1;32m~\\anaconda3\\envs\\senv\\Lib\\site-packages\\SQDMetal\\SQDMetal\\PALACE\\Model.py:403\u001b[0m, in \u001b[0;36mPALACE_Model_RF_Base._prepare_simulation\u001b[1;34m(self, metallic_layers, ground_plane)\u001b[0m\n\u001b[0;32m    397\u001b[0m     \u001b[38;5;28mself\u001b[39m\u001b[38;5;241m.\u001b[39mcreate_config_file(gmsh_render_attrs \u001b[38;5;241m=\u001b[39m gmsh_render_attrs)\n\u001b[0;32m    399\u001b[0m     \u001b[38;5;66;03m# #create batch file\u001b[39;00m\n\u001b[0;32m    400\u001b[0m     \u001b[38;5;66;03m# if self.mode == 'HPC':\u001b[39;00m\n\u001b[0;32m    401\u001b[0m     \u001b[38;5;66;03m#     self.create_batch_file()\u001b[39;00m\n\u001b[1;32m--> 403\u001b[0m     \u001b[38;5;28;43mself\u001b[39;49m\u001b[38;5;241;43m.\u001b[39;49m\u001b[43m_save_mesh_gmsh\u001b[49m\u001b[43m(\u001b[49m\u001b[43m)\u001b[49m\n\u001b[0;32m    405\u001b[0m \u001b[38;5;28;01mif\u001b[39;00m \u001b[38;5;28mself\u001b[39m\u001b[38;5;241m.\u001b[39mview_design_gmsh_gui \u001b[38;5;241m==\u001b[39m \u001b[38;5;28;01mTrue\u001b[39;00m:\n\u001b[0;32m    406\u001b[0m     \u001b[38;5;66;03m#plot design in gmsh gui\u001b[39;00m\n\u001b[0;32m    407\u001b[0m     pgr\u001b[38;5;241m.\u001b[39mview_design_components() \u001b[38;5;66;03m# TODO: error here: pgr not defined\u001b[39;00m\n",
      "File \u001b[1;32m~\\anaconda3\\envs\\senv\\Lib\\site-packages\\SQDMetal\\SQDMetal\\PALACE\\Model.py:273\u001b[0m, in \u001b[0;36mPALACE_Model._save_mesh_gmsh\u001b[1;34m(self)\u001b[0m\n\u001b[0;32m    271\u001b[0m gmsh\u001b[38;5;241m.\u001b[39mwrite(path)\n\u001b[0;32m    272\u001b[0m \u001b[38;5;28mself\u001b[39m\u001b[38;5;241m.\u001b[39m_mesh_path \u001b[38;5;241m=\u001b[39m path\n\u001b[1;32m--> 273\u001b[0m \u001b[43mGMSH_Navigator\u001b[49m\u001b[43m(\u001b[49m\u001b[38;5;28;43mself\u001b[39;49m\u001b[38;5;241;43m.\u001b[39;49m\u001b[43m_mesh_path\u001b[49m\u001b[43m)\u001b[49m\u001b[38;5;241m.\u001b[39mexport_to_png()\n",
      "File \u001b[1;32m~\\anaconda3\\envs\\senv\\Lib\\site-packages\\SQDMetal\\SQDMetal\\PALACE\\Utilities\\GMSH_Navigator.py:17\u001b[0m, in \u001b[0;36mGMSH_Navigator.__init__\u001b[1;34m(self, mesh_file, units, gmsh_verbosity)\u001b[0m\n\u001b[0;32m     15\u001b[0m gmsh\u001b[38;5;241m.\u001b[39moption\u001b[38;5;241m.\u001b[39msetNumber(\u001b[38;5;124m'\u001b[39m\u001b[38;5;124mGeneral.Verbosity\u001b[39m\u001b[38;5;124m'\u001b[39m, gmsh_verbosity)\n\u001b[0;32m     16\u001b[0m gmsh\u001b[38;5;241m.\u001b[39moption\u001b[38;5;241m.\u001b[39msetNumber(\u001b[38;5;124m\"\u001b[39m\u001b[38;5;124mGeneral.Terminal\u001b[39m\u001b[38;5;124m\"\u001b[39m, gmsh_verbosity)\n\u001b[1;32m---> 17\u001b[0m \u001b[43mgmsh\u001b[49m\u001b[38;5;241;43m.\u001b[39;49m\u001b[43mopen\u001b[49m\u001b[43m(\u001b[49m\u001b[43mmesh_file\u001b[49m\u001b[43m)\u001b[49m\n\u001b[0;32m     19\u001b[0m \u001b[38;5;66;03m#\u001b[39;00m\n\u001b[0;32m     20\u001b[0m \u001b[38;5;28mself\u001b[39m\u001b[38;5;241m.\u001b[39m_file_path \u001b[38;5;241m=\u001b[39m mesh_file\n",
      "File \u001b[1;32mc:\\Users\\reece\\anaconda3\\envs\\senv\\Lib\\site-packages\\gmsh.py:332\u001b[0m, in \u001b[0;36mopen\u001b[1;34m(fileName)\u001b[0m\n\u001b[0;32m    321\u001b[0m \u001b[38;5;250m\u001b[39m\u001b[38;5;124;03m\"\"\"\u001b[39;00m\n\u001b[0;32m    322\u001b[0m \u001b[38;5;124;03mgmsh.open(fileName)\u001b[39;00m\n\u001b[0;32m    323\u001b[0m \n\u001b[1;32m   (...)\u001b[0m\n\u001b[0;32m    329\u001b[0m \u001b[38;5;124;03m- `fileName': string\u001b[39;00m\n\u001b[0;32m    330\u001b[0m \u001b[38;5;124;03m\"\"\"\u001b[39;00m\n\u001b[0;32m    331\u001b[0m ierr \u001b[38;5;241m=\u001b[39m c_int()\n\u001b[1;32m--> 332\u001b[0m \u001b[43mlib\u001b[49m\u001b[38;5;241;43m.\u001b[39;49m\u001b[43mgmshOpen\u001b[49m\u001b[43m(\u001b[49m\n\u001b[0;32m    333\u001b[0m \u001b[43m    \u001b[49m\u001b[43mc_char_p\u001b[49m\u001b[43m(\u001b[49m\u001b[43mfileName\u001b[49m\u001b[38;5;241;43m.\u001b[39;49m\u001b[43mencode\u001b[49m\u001b[43m(\u001b[49m\u001b[43m)\u001b[49m\u001b[43m)\u001b[49m\u001b[43m,\u001b[49m\n\u001b[0;32m    334\u001b[0m \u001b[43m    \u001b[49m\u001b[43mbyref\u001b[49m\u001b[43m(\u001b[49m\u001b[43mierr\u001b[49m\u001b[43m)\u001b[49m\u001b[43m)\u001b[49m\n\u001b[0;32m    335\u001b[0m \u001b[38;5;28;01mif\u001b[39;00m ierr\u001b[38;5;241m.\u001b[39mvalue \u001b[38;5;241m!=\u001b[39m \u001b[38;5;241m0\u001b[39m:\n\u001b[0;32m    336\u001b[0m     \u001b[38;5;28;01mraise\u001b[39;00m \u001b[38;5;167;01mException\u001b[39;00m(logger\u001b[38;5;241m.\u001b[39mgetLastError())\n",
      "\u001b[1;31mKeyboardInterrupt\u001b[0m: "
     ]
    }
   ],
   "source": [
    "if run_palace_setup:\n",
    "    quantum_config                               = ensure_config(CONFIG_PATH)   # Load config here for easy use\n",
    "\n",
    "    palace_cap_config               = quantum_config[\"simulations\"][\"palace\"][\"capacitance\"]\n",
    "    palace_eigenmode_config         = quantum_config[\"simulations\"][\"palace\"][\"eigenmode\"]\n",
    "    palace_eigenmode_config[\"lj\"]   = junction_inductance\n",
    "\n",
    "    cap_sim_list = []\n",
    "    cap_sim_list.append(make_palace_cap_sim(transmon_design, \"transmon\", palace_cap_config))        \n",
    "    cap_sim_list.append(make_palace_cap_sim(transmon_no_jj_design, \"transmon_no_jj\", palace_cap_config))\n",
    "    cap_sim_list.append(make_palace_cap_sim(resonator_design, \"resonator\", palace_cap_config))        \n",
    "    cap_sim_list.append(make_palace_cap_sim(feedline_design, \"feedline\", palace_cap_config))          \n",
    "\n",
    "    eigen_sim_list = []\n",
    "    eigen_sim_list.append(make_palace_eigenmode_sim(full_design, \"full\", palace_eigenmode_config))   \n",
    "    eigen_sim_list.append(make_palace_eigenmode_sim(full_no_jj_design, \"full_no_jj\", palace_eigenmode_config))    \n",
    "    eigen_sim_list.append(make_palace_eigenmode_sim(resonator_design, \"resonator\", palace_eigenmode_config))\n"
   ]
  },
  {
   "cell_type": "code",
   "execution_count": null,
   "id": "faa2f61f",
   "metadata": {},
   "outputs": [],
   "source": [
    "# UNIMPLEMENTED PALACE MESH SIM FILES\n",
    "\n",
    "#make_palace_cap_sim_full_gds(full_design, qubit_geo)\n",
    "#make_palace_cap_sim_full_no_jj_gds(full_no_jj_design, qubit_geo)\n",
    "#make_palace_cap_sim_junction_gds(junction_design, qubit_geo)\n",
    "\n",
    "#make_palace_eigenmode_sim(junction_design, \"junction\", palace_eigenmode_config)\n",
    "#make_palace_eigenmode_sim(feedline_design, \"feedline\", palace_eigenmode_config)\n",
    "#make_palace_eigenmode_sim(transmon_design, \"transmon\", palace_eigenmode_config)   \n",
    "#make_palace_eigenmode_sim(transmon_no_jj_design, \"transmon_no_jj\", palace_eigenmode_config)"
   ]
  },
  {
   "cell_type": "markdown",
   "id": "d8e08c70",
   "metadata": {},
   "source": [
    "## Optionally show sims and their conductor indices"
   ]
  },
  {
   "cell_type": "code",
   "execution_count": null,
   "id": "adcb3f17",
   "metadata": {},
   "outputs": [],
   "source": [
    "if palace_show_conductor_indices:\n",
    "    for cap_sim in cap_sim_list:\n",
    "        cap_sim.display_conductor_indices()\n",
    "    for eigen_sim in eigen_sim_list:\n",
    "        #epr_data = eigen_sim.retrieve_EPR_data()  \n",
    "        #mode_port_epr = eigen_sim.retrieve_mode_port_EPR()\n",
    "        pass"
   ]
  },
  {
   "cell_type": "markdown",
   "id": "8652c892",
   "metadata": {},
   "source": [
    "## Run Inductex simulations"
   ]
  },
  {
   "cell_type": "code",
   "execution_count": null,
   "id": "ba2e5382",
   "metadata": {},
   "outputs": [],
   "source": [
    "# Select either capacitance, inductance, sparams, or eigenmode \n",
    "if run_inductex:\n",
    "    run_inductex_simulation(\"transmon\", \"capacitance\", keep_open=False)\n",
    "    run_inductex_simulation(\"transmon_no_jj\", \"capacitance\", keep_open=False)\n",
    "    run_inductex_simulation(\"resonator\", \"capacitance\", keep_open=False)\n",
    "    run_inductex_simulation(\"feedline\", \"capacitance\", keep_open=False)        \n",
    "\n",
    "    run_inductex_simulation(\"resonator\", \"inductance\", keep_open=False)\n",
    "\n",
    "    run_inductex_simulation(\"transmon\", \"sparams\", keep_open=False)\n",
    "    run_inductex_simulation(\"transmon_no_jj\", \"sparams\", keep_open=False)\n",
    "    run_inductex_simulation(\"resonator\", \"sparams\", keep_open=False)"
   ]
  },
  {
   "cell_type": "markdown",
   "id": "d1fb25fb",
   "metadata": {},
   "source": [
    "## Run PALACE Simulations"
   ]
  },
  {
   "cell_type": "code",
   "execution_count": null,
   "id": "a1d0678c",
   "metadata": {},
   "outputs": [],
   "source": [
    "if run_palace:\n",
    "    run_palace_simulation(\"transmon\", \"capacitance\", palace_eigenmode_config[\"number_of_cores\"], keep_open=False)\n",
    "    run_palace_simulation(\"transmon_no_jj\", \"capacitance\", palace_eigenmode_config[\"number_of_cores\"], keep_open=False)\n",
    "    run_palace_simulation(\"resonator\", \"capacitance\", palace_eigenmode_config[\"number_of_cores\"], keep_open=False)\n",
    "    run_palace_simulation(\"feedline\", \"capacitance\", palace_eigenmode_config[\"number_of_cores\"], keep_open=False)\n",
    "\n",
    "    run_palace_simulation(\"full\", \"eigenmode\", palace_eigenmode_config[\"number_of_cores\"], keep_open=False)\n",
    "    run_palace_simulation(\"full_no_jj\", \"eigenmode\", palace_eigenmode_config[\"number_of_cores\"], keep_open=False)\n",
    "    run_palace_simulation(\"resonator\", \"eigenmode\", palace_eigenmode_config[\"number_of_cores\"], keep_open=False)\n"
   ]
  },
  {
   "cell_type": "markdown",
   "id": "2fbbc663",
   "metadata": {},
   "source": [
    "## Extract and save results from simulations"
   ]
  },
  {
   "cell_type": "code",
   "execution_count": null,
   "id": "5eedbeb3",
   "metadata": {},
   "outputs": [],
   "source": [
    "results_inductex, inductex_time = collect_inductex_results(design_names, inductex_simulation_types)\n",
    "results_palace, palace_times    = collect_palace_results(design_names, palace_simulation_types)\n",
    "\n",
    "save_results_to_json(results_inductex, name=\"data/inductex_sim_results\", save=True, orient=\"records\", indent=2)\n",
    "save_results_to_json(results_palace, name=\"data/palace_sim_results\", save=True, orient=\"records\", indent=2)\n",
    "save_results_to_json(inductex_time, name=\"data/inductex_sim_times\", save=True, orient=\"records\", indent=2)\n",
    "save_results_to_json(palace_times, name=\"data/palace_sim_times\", save=True, orient=\"records\", indent=2)"
   ]
  },
  {
   "cell_type": "markdown",
   "id": "70ac918c",
   "metadata": {},
   "source": [
    "## Post process results from simulations"
   ]
  },
  {
   "cell_type": "code",
   "execution_count": null,
   "id": "6fa4572d",
   "metadata": {},
   "outputs": [],
   "source": [
    "other_computed_results = compute_other_values(ref_design_specs, ref_cap_data, results_inductex, results_palace)"
   ]
  },
  {
   "cell_type": "markdown",
   "id": "698b968e",
   "metadata": {},
   "source": [
    "## Quantum Analysis: Local Oscillator Method (LOM)"
   ]
  },
  {
   "cell_type": "code",
   "execution_count": null,
   "id": "4750c6f0",
   "metadata": {},
   "outputs": [],
   "source": [
    "Nq                      = quantum_config[\"quantum_analysis\"][\"lom\"][\"qubit_truncation\"]\n",
    "Nc                      = quantum_config[\"quantum_analysis\"][\"lom\"][\"cavity_truncation\"]\n",
    "Nmax                    = quantum_config[\"quantum_analysis\"][\"lom\"][\"charge_truncation\"]"
   ]
  },
  {
   "cell_type": "markdown",
   "id": "71ef6381",
   "metadata": {},
   "source": [
    "## LOM Hamiltonian using HFSS reference results"
   ]
  },
  {
   "cell_type": "code",
   "execution_count": null,
   "id": "97261cba",
   "metadata": {},
   "outputs": [],
   "source": [
    "Ec                      = ref_cap_data[\"EC\"] * 1e9 * h  # Convert GHz to Hz and then to J\n",
    "Cs_hfss                 = ref_cap_data[\"cross_to_cross\"] * 1e-15  # Convert fF to F\n",
    "Cg_hfss                 = ref_cap_data[\"cross_to_claw\"] * 1e-15  # Convert fF to F\n",
    "Cj_hfss                 = other_computed_results[\"cj_hfss\"]  # Cj ~ 0 fF \n",
    "Lj_hfss                 = junction_inductance\n",
    "Lr_hfss                 = results_inductex[\"inductance\"][\"resonator\"][\"L1\"]  # Inductance not given so use inductex result\n",
    "Cr_hfss                 = other_computed_results[\"cr_hfss\"]\n",
    "hamiltonian_lom_hfss    = compute_hamiltonian_lom(Lj=Lj_hfss, Lr=Lr_hfss, Cj=Cj_hfss, Cs=Cs_hfss, Cg=Cg_hfss, Cr=Cr_hfss, Nc=Nc, Nq=Nq, Nmax=Nmax)\n"
   ]
  },
  {
   "cell_type": "markdown",
   "id": "571b0fa3",
   "metadata": {},
   "source": [
    "## LOM Hamiltonian using InductEx Results "
   ]
  },
  {
   "cell_type": "code",
   "execution_count": null,
   "id": "adedba09",
   "metadata": {},
   "outputs": [],
   "source": [
    "Cs_inductex                  = results_inductex[\"capacitance\"][\"transmon\"][\"CCROSS-CCROSS\"]\n",
    "Cg_inductex                  = results_inductex[\"capacitance\"][\"transmon\"][\"CCROSS-CCLAW\"]\n",
    "Cj_inductex                  = 0  # Cj already accounted for in InductEx transmon sim\n",
    "Lj_inductex                  = junction_inductance\n",
    "Lr_inductex                  = results_inductex[\"inductance\"][\"resonator\"][\"L1\"]  # Inductance not given so use InductEx result\n",
    "Cr_inductex                  = results_inductex[\"capacitance\"][\"resonator\"][\"CRESONATOR-CRESONATOR\"]\n",
    "hamiltonian_lom_inductex     = compute_hamiltonian_lom(Lj=Lj_inductex, Lr=Lr_inductex, Cj=Cj_inductex, Cs=Cs_inductex, Cg=Cg_inductex, Cr=Cr_inductex, Nc=Nc, Nq=Nq, Nmax=Nmax)"
   ]
  },
  {
   "cell_type": "markdown",
   "id": "d2bdab63",
   "metadata": {},
   "source": [
    "## LOM Hamiltonian using PALACE Results "
   ]
  },
  {
   "cell_type": "code",
   "execution_count": null,
   "id": "12803bda",
   "metadata": {},
   "outputs": [],
   "source": [
    "Cs_palace                  = results_palace[\"capacitance\"][\"transmon\"][\"C2-C2\"]\n",
    "Cg_palace                  = results_palace[\"capacitance\"][\"transmon\"][\"C2-C3\"]\n",
    "Cj_palace                  = 0                                                             # Cj already accounted for in palace transmon sim\n",
    "Lj_palace                  = junction_inductance\n",
    "Cr_palace                  = results_palace[\"capacitance\"][\"resonator\"][\"C2-C2\"]\n",
    "Lr_extracted_palace        = other_computed_results[\"lr_palace\"]\n",
    "hamiltonian_lom_palace     = compute_hamiltonian_lom(Lj=Lj_palace, Lr=Lr_extracted_palace, Cj=Cj_palace, Cs=Cs_palace, Cg=Cg_palace, Cr=Cr_palace, Nc=Nc, Nq=Nq, Nmax=Nmax)"
   ]
  },
  {
   "cell_type": "markdown",
   "id": "f7b4bd43",
   "metadata": {},
   "source": [
    "## Quantum Analysis: Energy Participation Ratio Method (EPR)"
   ]
  },
  {
   "cell_type": "markdown",
   "id": "47901aa4",
   "metadata": {},
   "source": [
    "## EPR Hamiltonian using InductEx Results "
   ]
  },
  {
   "cell_type": "code",
   "execution_count": null,
   "id": "5377c3b3",
   "metadata": {},
   "outputs": [],
   "source": [
    "hamiltonian_epr_inductex = 0"
   ]
  },
  {
   "cell_type": "markdown",
   "id": "ceec2fb5",
   "metadata": {},
   "source": [
    "## EPR Hamiltonian using PALACE Results "
   ]
  },
  {
   "cell_type": "code",
   "execution_count": null,
   "id": "f94ef130",
   "metadata": {},
   "outputs": [],
   "source": [
    "Lj                      = junction_inductance\n",
    "Fq_Hz                   = results_palace[\"eigenmode\"][\"full\"][\"eigen_mode_frequencies\"][\"mode_1\"]*1e9\n",
    "Pq                      = abs(results_palace[\"eigenmode\"][\"full\"][\"eigen_mode_epr\"][\"mode_1\"])\n",
    "Fc_Hz                   = results_palace[\"eigenmode\"][\"resonator\"][\"eigen_mode_frequencies\"][\"mode_1\"]*1e9\n",
    "Pc                      = abs(results_palace[\"eigenmode\"][\"full\"][\"eigen_mode_epr\"][\"mode_2\"])\n",
    "N                       = quantum_config[\"quantum_analysis\"][\"epr\"][\"mode_truncation\"]\n",
    "hamiltonian_epr_palace  = compute_hamiltonian_epr(Lj_H=Lj, p_c=Pc, p_q=Pq, f_c_Hz=Fc_Hz, f_q_Hz=Fq_Hz, N=N)"
   ]
  },
  {
   "cell_type": "markdown",
   "id": "8e1f7d5e",
   "metadata": {},
   "source": [
    "## Extract Charactertics from Hamiltonians "
   ]
  },
  {
   "cell_type": "code",
   "execution_count": null,
   "id": "125a178e",
   "metadata": {},
   "outputs": [],
   "source": [
    "results_lom_hfss            = analyse_hamilotonian(hamiltonian_lom_hfss)\n",
    "results_lom_inductex        = analyse_hamilotonian(hamiltonian_lom_inductex)\n",
    "results_lom_palace          = analyse_hamilotonian(hamiltonian_lom_palace)\n",
    "results_epr_inductex        = analyse_hamilotonian(hamiltonian_epr_inductex)\n",
    "results_epr_palace          = analyse_hamilotonian(hamiltonian_epr_palace)"
   ]
  },
  {
   "cell_type": "code",
   "execution_count": null,
   "id": "9e638948",
   "metadata": {},
   "outputs": [],
   "source": [
    "generate_quantum_report(Lj, \n",
    "                        quantum_config, \n",
    "                        best_design, \n",
    "                        results_inductex, \n",
    "                        results_palace, \n",
    "                        hamiltonian_lom_hfss, \n",
    "                        hamiltonian_lom_inductex,\n",
    "                        hamiltonian_lom_palace,\n",
    "                        hamiltonian_epr_inductex,\n",
    "                        hamiltonian_epr_palace,\n",
    "                        results_lom_hfss,\n",
    "                        results_lom_inductex,\n",
    "                        results_lom_palace,\n",
    "                        results_epr_inductex,\n",
    "                        results_epr_palace,\n",
    "                        other_computed_results,\n",
    "                        )"
   ]
  },
  {
   "cell_type": "markdown",
   "id": "bd1effb8",
   "metadata": {},
   "source": [
    "## Mess around code below"
   ]
  },
  {
   "cell_type": "code",
   "execution_count": null,
   "id": "90172599",
   "metadata": {},
   "outputs": [],
   "source": [
    "run_inductex_simulation(\"resonator\", \"capacitance\", keep_open=False)"
   ]
  },
  {
   "cell_type": "code",
   "execution_count": null,
   "id": "0e921e85",
   "metadata": {},
   "outputs": [],
   "source": [
    "run_inductex_simulation(\"resonator\", \"inductance\", keep_open=False)"
   ]
  },
  {
   "cell_type": "code",
   "execution_count": null,
   "id": "9b948fc8",
   "metadata": {},
   "outputs": [],
   "source": [
    "quantum_config                  = ensure_config(CONFIG_PATH)\n",
    "palace_cap_config               = quantum_config[\"simulations\"][\"palace\"][\"capacitance\"]\n",
    "palace_eigenmode_config         = quantum_config[\"simulations\"][\"palace\"][\"eigenmode\"]\n",
    "palace_eigenmode_config[\"lj\"]   = junction_inductance"
   ]
  },
  {
   "cell_type": "code",
   "execution_count": null,
   "id": "ed03bd67",
   "metadata": {},
   "outputs": [],
   "source": [
    "make_palace_cap_sim(resonator_design, \"resonator\", palace_cap_config)\n",
    "run_palace_simulation(\"resonator\", \"capacitance\", palace_cap_config[\"number_of_cores\"], keep_open=False)"
   ]
  },
  {
   "cell_type": "code",
   "execution_count": null,
   "id": "c2640c0f",
   "metadata": {},
   "outputs": [],
   "source": [
    "make_palace_eigenmode_sim(full_design, \"full\", palace_eigenmode_config)\n",
    "run_palace_simulation(\"full\", \"eigenmode\", palace_eigenmode_config[\"number_of_cores\"], keep_open=False)"
   ]
  },
  {
   "cell_type": "code",
   "execution_count": null,
   "id": "e04a13f6",
   "metadata": {},
   "outputs": [],
   "source": [
    "make_palace_eigenmode_sim(resonator_design, \"resonator\", palace_eigenmode_config)\n",
    "run_palace_simulation(\"resonator\", \"eigenmode\", palace_eigenmode_config[\"number_of_cores\"], keep_open=True)"
   ]
  },
  {
   "cell_type": "code",
   "execution_count": null,
   "id": "3b838f40",
   "metadata": {},
   "outputs": [],
   "source": [
    "if True:\n",
    "    from qiskit_metal import designs, Dict\n",
    "    x = designs.DesignPlanar({}, overwrite_enabled=True);\n",
    "    gui = MetalGUI(resonator_design);\n",
    "    gui.main_window.load_stylesheet_dark();\n",
    "    gui.main_window.showMaximized();\n",
    "    gui.autoscale();\n",
    "    gui.qApp.exec_();\n",
    "    #design.rebuild()\n",
    "    #gui.rebuild()\n",
    "    #gui.autoscale()\n",
    "    #gui.show()  # Display the design in the GUI\n",
    "\n",
    "    gui.main_window.force_close = True  \n",
    "    gui.main_window.close();\n",
    "    gui.qApp.quit()"
   ]
  },
  {
   "cell_type": "code",
   "execution_count": null,
   "id": "729a9c36",
   "metadata": {},
   "outputs": [],
   "source": [
    "from SQDMetal.Utilities.CpwParams import CpwParams  \n",
    "from SQDMetal.Utilities.QUtilities import QUtilities \n",
    "from helpers import extract_um\n",
    "\n",
    "component = full_design.components[\"resonator\"]\n",
    "\n",
    "trace_width = component.options['trace_width']\n",
    "trace_gap = component.options['trace_gap']\n",
    "\n",
    "# Extract trace width and gap from your feedline  \n",
    "trace_width = QUtilities.parse_value_length(trace_width)  \n",
    "trace_gap = QUtilities.parse_value_length(trace_gap)  \n",
    "  \n",
    "# Get substrate parameters from design  \n",
    "cpw_params = CpwParams.fromQDesign(design=full_design, chip_name='main')  \n",
    "# Calculate impedance  \n",
    "impedance = CpwParams.calc_impedance(  \n",
    "    tr_wid=trace_width,  \n",
    "    tr_gap=trace_gap,  \n",
    "    er=cpw_params.rel_permittivity,  \n",
    "    h=cpw_params.dielectric_thickness  \n",
    ")  \n",
    "print(f\"Feedline impedance: {impedance:.2f} Ω\")\n",
    "  "
   ]
  }
 ],
 "metadata": {
  "kernelspec": {
   "display_name": "senv",
   "language": "python",
   "name": "python3"
  },
  "language_info": {
   "codemirror_mode": {
    "name": "ipython",
    "version": 3
   },
   "file_extension": ".py",
   "mimetype": "text/x-python",
   "name": "python",
   "nbconvert_exporter": "python",
   "pygments_lexer": "ipython3",
   "version": "3.11.13"
  }
 },
 "nbformat": 4,
 "nbformat_minor": 5
}
